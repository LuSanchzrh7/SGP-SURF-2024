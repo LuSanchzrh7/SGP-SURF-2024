{
 "cells": [
  {
   "cell_type": "code",
   "execution_count": 1,
   "id": "6dd470d4",
   "metadata": {},
   "outputs": [],
   "source": [
    "import pandas as pd\n",
    "import numpy as np\n",
    "import matplotlib.pyplot as plt\n",
    "import lasio\n",
    "from scipy import signal\n",
    "import seaborn as sns\n",
    "import plotly.graph_objects as go\n",
    "from plotly.subplots import make_subplots"
   ]
  },
  {
   "cell_type": "code",
   "execution_count": 2,
   "id": "0e4ded59",
   "metadata": {},
   "outputs": [],
   "source": [
    "import matplotlib.colors as mcolors\n",
    "from matplotlib.patches import Rectangle"
   ]
  },
  {
   "cell_type": "code",
   "execution_count": 3,
   "id": "a2d4131b",
   "metadata": {},
   "outputs": [],
   "source": [
    "sns.set(style=\"whitegrid\")"
   ]
  },
  {
   "cell_type": "code",
   "execution_count": 4,
   "id": "24ee906e",
   "metadata": {},
   "outputs": [],
   "source": [
    "las= lasio.read('Sonic_P_and_S_Output_7240ft_350ft.las')"
   ]
  },
  {
   "cell_type": "code",
   "execution_count": 5,
   "id": "4d2d23da",
   "metadata": {},
   "outputs": [
    {
     "data": {
      "text/plain": [
       "dict_keys(['Version', 'Well', 'Curves', 'Parameter', 'Other'])"
      ]
     },
     "execution_count": 5,
     "metadata": {},
     "output_type": "execute_result"
    }
   ],
   "source": [
    "las.sections.keys()"
   ]
  },
  {
   "cell_type": "code",
   "execution_count": 6,
   "id": "3b892141",
   "metadata": {
    "scrolled": true
   },
   "outputs": [
    {
     "data": {
      "text/plain": [
       "[CurveItem(mnemonic=\"DEPT\", unit=\"F\", value=\"00 001 00 00\", descr=\"Depth Index\", original_mnemonic=\"DEPT\", data.shape=(13781,)),\n",
       " CurveItem(mnemonic=\"RLA0\", unit=\"OHMM\", value=\"\", descr=\"1 Apparent Resistivity from Computed Focusing Mode 0\", original_mnemonic=\"RLA0\", data.shape=(13781,)),\n",
       " CurveItem(mnemonic=\"RLA1\", unit=\"OHMM\", value=\"\", descr=\"2 Apparent Resistivity from Computed Focusing Mode 1\", original_mnemonic=\"RLA1\", data.shape=(13781,)),\n",
       " CurveItem(mnemonic=\"RLA2\", unit=\"OHMM\", value=\"\", descr=\"3 Apparent Resistivity from Computed Focusing Mode 2\", original_mnemonic=\"RLA2\", data.shape=(13781,)),\n",
       " CurveItem(mnemonic=\"RLA3\", unit=\"OHMM\", value=\"\", descr=\"4 Apparent Resistivity from Computed Focusing Mode 3\", original_mnemonic=\"RLA3\", data.shape=(13781,)),\n",
       " CurveItem(mnemonic=\"RLA4\", unit=\"OHMM\", value=\"\", descr=\"5 Apparent Resistivity from Computed Focusing Mode 4\", original_mnemonic=\"RLA4\", data.shape=(13781,)),\n",
       " CurveItem(mnemonic=\"RLA5\", unit=\"OHMM\", value=\"\", descr=\"6 Apparent Resistivity from Computed Focusing Mode 5\", original_mnemonic=\"RLA5\", data.shape=(13781,)),\n",
       " CurveItem(mnemonic=\"RT_HRLT\", unit=\"OHMM\", value=\"\", descr=\"7 HRLT True Formation Resistivity\", original_mnemonic=\"RT_HRLT\", data.shape=(13781,)),\n",
       " CurveItem(mnemonic=\"AT10\", unit=\"OHMM\", value=\"\", descr=\"8 AIT TWO FOOT RESISTIVITY A10\", original_mnemonic=\"AT10\", data.shape=(13781,)),\n",
       " CurveItem(mnemonic=\"AT20\", unit=\"OHMM\", value=\"\", descr=\"9 AIT TWO FOOT RESISTIVITY A20\", original_mnemonic=\"AT20\", data.shape=(13781,)),\n",
       " CurveItem(mnemonic=\"AT30\", unit=\"OHMM\", value=\"\", descr=\"10 AIT TWO FOOT RESISTIVITY A30\", original_mnemonic=\"AT30\", data.shape=(13781,)),\n",
       " CurveItem(mnemonic=\"AT60\", unit=\"OHMM\", value=\"\", descr=\"11 AIT TWO FOOT RESISTIVITY A60\", original_mnemonic=\"AT60\", data.shape=(13781,)),\n",
       " CurveItem(mnemonic=\"AT90\", unit=\"OHMM\", value=\"\", descr=\"12 AIT TWO FOOT RESISTIVITY A90\", original_mnemonic=\"AT90\", data.shape=(13781,)),\n",
       " CurveItem(mnemonic=\"RT\", unit=\"OHMM\", value=\"\", descr=\"13 True Resistivity\", original_mnemonic=\"RT\", data.shape=(13781,)),\n",
       " CurveItem(mnemonic=\"RXOZ\", unit=\"OHMM\", value=\"\", descr=\"14 Invaded Formation Resistivity filtered at 18 inches\", original_mnemonic=\"RXOZ\", data.shape=(13781,)),\n",
       " CurveItem(mnemonic=\"BS\", unit=\"IN\", value=\"\", descr=\"15 Bit Size\", original_mnemonic=\"BS\", data.shape=(13781,)),\n",
       " CurveItem(mnemonic=\"DCAL\", unit=\"IN\", value=\"\", descr=\"16 Differential Caliper\", original_mnemonic=\"DCAL\", data.shape=(13781,)),\n",
       " CurveItem(mnemonic=\"HCAL\", unit=\"IN\", value=\"\", descr=\"17 HRCC Caliper Calibrated\", original_mnemonic=\"HCAL\", data.shape=(13781,)),\n",
       " CurveItem(mnemonic=\"HDAR\", unit=\"IN\", value=\"\", descr=\"18 Hole Diameter from Area\", original_mnemonic=\"HDAR\", data.shape=(13781,)),\n",
       " CurveItem(mnemonic=\"HD1_PPC1\", unit=\"IN\", value=\"\", descr=\"19 PPC1 Hole Diameter 1\", original_mnemonic=\"HD1_PPC1\", data.shape=(13781,)),\n",
       " CurveItem(mnemonic=\"HD2_PPC1\", unit=\"IN\", value=\"\", descr=\"20 PPC1 Hole Diameter 2\", original_mnemonic=\"HD2_PPC1\", data.shape=(13781,)),\n",
       " CurveItem(mnemonic=\"TENS\", unit=\"LBS\", value=\"\", descr=\"21 Cable Tension\", original_mnemonic=\"TENS\", data.shape=(13781,)),\n",
       " CurveItem(mnemonic=\"GR_EDTC\", unit=\"GAPI\", value=\"\", descr=\"22 Gamma Ray\", original_mnemonic=\"GR_EDTC\", data.shape=(13781,)),\n",
       " CurveItem(mnemonic=\"NPHI\", unit=\"CFCF\", value=\"\", descr=\"23 Thermal Neutron Porosity (original Ratio Method) in Selected Lithology\", original_mnemonic=\"NPHI\", data.shape=(13781,)),\n",
       " CurveItem(mnemonic=\"NPOR\", unit=\"CFCF\", value=\"\", descr=\"24 Enhanced Thermal Neutron Porosity in Selected Lithology\", original_mnemonic=\"NPOR\", data.shape=(13781,)),\n",
       " CurveItem(mnemonic=\"PEFZ\", unit=\"\", value=\"\", descr=\"25 HRDD Standard Resolution Formation Photoelectric Factor\", original_mnemonic=\"PEFZ\", data.shape=(13781,)),\n",
       " CurveItem(mnemonic=\"RHOZ\", unit=\"G/C3\", value=\"\", descr=\"26 HRDD Standard Resolution Formation Density\", original_mnemonic=\"RHOZ\", data.shape=(13781,)),\n",
       " CurveItem(mnemonic=\"DPHZ\", unit=\"CFCF\", value=\"\", descr=\"27 Standard Resolution Density Porosity\", original_mnemonic=\"DPHZ\", data.shape=(13781,)),\n",
       " CurveItem(mnemonic=\"SPHI\", unit=\"CFCF\", value=\"\", descr=\"28 Sonic Porosity\", original_mnemonic=\"SPHI\", data.shape=(13781,)),\n",
       " CurveItem(mnemonic=\"VCL_HILT\", unit=\"CFCF\", value=\"\", descr=\"29 Volume of Clay type Material relative to Total Volume\", original_mnemonic=\"VCL_HILT\", data.shape=(13781,)),\n",
       " CurveItem(mnemonic=\"DTCO\", unit=\"US/FT\", value=\"\", descr=\"30 Delta-T Compressional\", original_mnemonic=\"DTCO\", data.shape=(13781,)),\n",
       " CurveItem(mnemonic=\"DTSM\", unit=\"US/FT\", value=\"\", descr=\"31 Delta-T Shear\", original_mnemonic=\"DTSM\", data.shape=(13781,)),\n",
       " CurveItem(mnemonic=\"DTSM_FAST\", unit=\"US/FT\", value=\"\", descr=\"32 Shear Slowness of Fast Shear Waves\", original_mnemonic=\"DTSM_FAST\", data.shape=(13781,)),\n",
       " CurveItem(mnemonic=\"DTST\", unit=\"US/FT\", value=\"\", descr=\"33 Delta-T Stoneley - Monopole Stoneley\", original_mnemonic=\"DTST\", data.shape=(13781,)),\n",
       " CurveItem(mnemonic=\"PR\", unit=\"\", value=\"\", descr=\"34 Poisson Ratio\", original_mnemonic=\"PR\", data.shape=(13781,)),\n",
       " CurveItem(mnemonic=\"PR_FAST\", unit=\"\", value=\"\", descr=\"35 Poisson Ratio of Fast Shear Waves\", original_mnemonic=\"PR_FAST\", data.shape=(13781,)),\n",
       " CurveItem(mnemonic=\"VPVS\", unit=\"\", value=\"\", descr=\"36 Compressional to Shear Velocity Ratio\", original_mnemonic=\"VPVS\", data.shape=(13781,)),\n",
       " CurveItem(mnemonic=\"VPVS_FAST\", unit=\"\", value=\"\", descr=\"37 Vp/Vs Ration of fast shear waves\", original_mnemonic=\"VPVS_FAST\", data.shape=(13781,)),\n",
       " CurveItem(mnemonic=\"CHR_FAST\", unit=\"\", value=\"\", descr=\"38 Peak Coherence, Receiver Array - FAST\", original_mnemonic=\"CHR_FAST\", data.shape=(13781,)),\n",
       " CurveItem(mnemonic=\"CHR_XD\", unit=\"\", value=\"\", descr=\"39 Peak Coherence, Receiver Array - X Dipole\", original_mnemonic=\"CHR_XD\", data.shape=(13781,)),\n",
       " CurveItem(mnemonic=\"CHRP\", unit=\"\", value=\"\", descr=\"40 Label Peak Coherence, Receiver Array, Compressional - Monopole P&S\", original_mnemonic=\"CHRP\", data.shape=(13781,)),\n",
       " CurveItem(mnemonic=\"TICO\", unit=\"US\", value=\"\", descr=\"41 Compressional Integrated Transit Time Channel\", original_mnemonic=\"TICO\", data.shape=(13781,)),\n",
       " CurveItem(mnemonic=\"MAXXENE_OVERALL\", unit=\"\", value=\"\", descr=\"42 Overall estimate of maximum cross energy\", original_mnemonic=\"MAXXENE_OVERALL\", data.shape=(13781,)),\n",
       " CurveItem(mnemonic=\"MINXENE_OVERALL\", unit=\"\", value=\"\", descr=\"43 Overall estimate of minimum cross energy\", original_mnemonic=\"MINXENE_OVERALL\", data.shape=(13781,))]"
      ]
     },
     "execution_count": 6,
     "metadata": {},
     "output_type": "execute_result"
    }
   ],
   "source": [
    "las.sections['Curves']"
   ]
  },
  {
   "cell_type": "code",
   "execution_count": 7,
   "id": "a1f2003d",
   "metadata": {},
   "outputs": [
    {
     "name": "stdout",
     "output_type": "stream",
     "text": [
      "DEPT\n",
      "RLA0\n",
      "RLA1\n",
      "RLA2\n",
      "RLA3\n",
      "RLA4\n",
      "RLA5\n",
      "RT_HRLT\n",
      "AT10\n",
      "AT20\n",
      "AT30\n",
      "AT60\n",
      "AT90\n",
      "RT\n",
      "RXOZ\n",
      "BS\n",
      "DCAL\n",
      "HCAL\n",
      "HDAR\n",
      "HD1_PPC1\n",
      "HD2_PPC1\n",
      "TENS\n",
      "GR_EDTC\n",
      "NPHI\n",
      "NPOR\n",
      "PEFZ\n",
      "RHOZ\n",
      "DPHZ\n",
      "SPHI\n",
      "VCL_HILT\n",
      "DTCO\n",
      "DTSM\n",
      "DTSM_FAST\n",
      "DTST\n",
      "PR\n",
      "PR_FAST\n",
      "VPVS\n",
      "VPVS_FAST\n",
      "CHR_FAST\n",
      "CHR_XD\n",
      "CHRP\n",
      "TICO\n",
      "MAXXENE_OVERALL\n",
      "MINXENE_OVERALL\n"
     ]
    }
   ],
   "source": [
    "for curve in las.curves:\n",
    "    print(curve.mnemonic)"
   ]
  },
  {
   "cell_type": "code",
   "execution_count": 8,
   "id": "629fbf01",
   "metadata": {},
   "outputs": [
    {
     "name": "stdout",
     "output_type": "stream",
     "text": [
      "Curve: DEPT, \t Units: F, \t Description: Depth Index\n",
      "Curve: RLA0, \t Units: OHMM, \t Description: 1 Apparent Resistivity from Computed Focusing Mode 0\n",
      "Curve: RLA1, \t Units: OHMM, \t Description: 2 Apparent Resistivity from Computed Focusing Mode 1\n",
      "Curve: RLA2, \t Units: OHMM, \t Description: 3 Apparent Resistivity from Computed Focusing Mode 2\n",
      "Curve: RLA3, \t Units: OHMM, \t Description: 4 Apparent Resistivity from Computed Focusing Mode 3\n",
      "Curve: RLA4, \t Units: OHMM, \t Description: 5 Apparent Resistivity from Computed Focusing Mode 4\n",
      "Curve: RLA5, \t Units: OHMM, \t Description: 6 Apparent Resistivity from Computed Focusing Mode 5\n",
      "Curve: RT_HRLT, \t Units: OHMM, \t Description: 7 HRLT True Formation Resistivity\n",
      "Curve: AT10, \t Units: OHMM, \t Description: 8 AIT TWO FOOT RESISTIVITY A10\n",
      "Curve: AT20, \t Units: OHMM, \t Description: 9 AIT TWO FOOT RESISTIVITY A20\n",
      "Curve: AT30, \t Units: OHMM, \t Description: 10 AIT TWO FOOT RESISTIVITY A30\n",
      "Curve: AT60, \t Units: OHMM, \t Description: 11 AIT TWO FOOT RESISTIVITY A60\n",
      "Curve: AT90, \t Units: OHMM, \t Description: 12 AIT TWO FOOT RESISTIVITY A90\n",
      "Curve: RT, \t Units: OHMM, \t Description: 13 True Resistivity\n",
      "Curve: RXOZ, \t Units: OHMM, \t Description: 14 Invaded Formation Resistivity filtered at 18 inches\n",
      "Curve: BS, \t Units: IN, \t Description: 15 Bit Size\n",
      "Curve: DCAL, \t Units: IN, \t Description: 16 Differential Caliper\n",
      "Curve: HCAL, \t Units: IN, \t Description: 17 HRCC Caliper Calibrated\n",
      "Curve: HDAR, \t Units: IN, \t Description: 18 Hole Diameter from Area\n",
      "Curve: HD1_PPC1, \t Units: IN, \t Description: 19 PPC1 Hole Diameter 1\n",
      "Curve: HD2_PPC1, \t Units: IN, \t Description: 20 PPC1 Hole Diameter 2\n",
      "Curve: TENS, \t Units: LBS, \t Description: 21 Cable Tension\n",
      "Curve: GR_EDTC, \t Units: GAPI, \t Description: 22 Gamma Ray\n",
      "Curve: NPHI, \t Units: CFCF, \t Description: 23 Thermal Neutron Porosity (original Ratio Method) in Selected Lithology\n",
      "Curve: NPOR, \t Units: CFCF, \t Description: 24 Enhanced Thermal Neutron Porosity in Selected Lithology\n",
      "Curve: PEFZ, \t Units: , \t Description: 25 HRDD Standard Resolution Formation Photoelectric Factor\n",
      "Curve: RHOZ, \t Units: G/C3, \t Description: 26 HRDD Standard Resolution Formation Density\n",
      "Curve: DPHZ, \t Units: CFCF, \t Description: 27 Standard Resolution Density Porosity\n",
      "Curve: SPHI, \t Units: CFCF, \t Description: 28 Sonic Porosity\n",
      "Curve: VCL_HILT, \t Units: CFCF, \t Description: 29 Volume of Clay type Material relative to Total Volume\n",
      "Curve: DTCO, \t Units: US/FT, \t Description: 30 Delta-T Compressional\n",
      "Curve: DTSM, \t Units: US/FT, \t Description: 31 Delta-T Shear\n",
      "Curve: DTSM_FAST, \t Units: US/FT, \t Description: 32 Shear Slowness of Fast Shear Waves\n",
      "Curve: DTST, \t Units: US/FT, \t Description: 33 Delta-T Stoneley - Monopole Stoneley\n",
      "Curve: PR, \t Units: , \t Description: 34 Poisson Ratio\n",
      "Curve: PR_FAST, \t Units: , \t Description: 35 Poisson Ratio of Fast Shear Waves\n",
      "Curve: VPVS, \t Units: , \t Description: 36 Compressional to Shear Velocity Ratio\n",
      "Curve: VPVS_FAST, \t Units: , \t Description: 37 Vp/Vs Ration of fast shear waves\n",
      "Curve: CHR_FAST, \t Units: , \t Description: 38 Peak Coherence, Receiver Array - FAST\n",
      "Curve: CHR_XD, \t Units: , \t Description: 39 Peak Coherence, Receiver Array - X Dipole\n",
      "Curve: CHRP, \t Units: , \t Description: 40 Label Peak Coherence, Receiver Array, Compressional - Monopole P&S\n",
      "Curve: TICO, \t Units: US, \t Description: 41 Compressional Integrated Transit Time Channel\n",
      "Curve: MAXXENE_OVERALL, \t Units: , \t Description: 42 Overall estimate of maximum cross energy\n",
      "Curve: MINXENE_OVERALL, \t Units: , \t Description: 43 Overall estimate of minimum cross energy\n",
      "There are a total of: 44 curves present within this file\n"
     ]
    }
   ],
   "source": [
    "for count, curve in enumerate(las.curves):\n",
    "    print(f\"Curve: {curve.mnemonic}, \\t Units: {curve.unit}, \\t Description: {curve.descr}\")\n",
    "print(f\"There are a total of: {count+1} curves present within this file\")"
   ]
  },
  {
   "cell_type": "code",
   "execution_count": 9,
   "id": "8c806655",
   "metadata": {},
   "outputs": [],
   "source": [
    "well = las.df()"
   ]
  },
  {
   "cell_type": "code",
   "execution_count": 10,
   "id": "9a9017fb",
   "metadata": {},
   "outputs": [
    {
     "data": {
      "text/html": [
       "<div>\n",
       "<style scoped>\n",
       "    .dataframe tbody tr th:only-of-type {\n",
       "        vertical-align: middle;\n",
       "    }\n",
       "\n",
       "    .dataframe tbody tr th {\n",
       "        vertical-align: top;\n",
       "    }\n",
       "\n",
       "    .dataframe thead th {\n",
       "        text-align: right;\n",
       "    }\n",
       "</style>\n",
       "<table border=\"1\" class=\"dataframe\">\n",
       "  <thead>\n",
       "    <tr style=\"text-align: right;\">\n",
       "      <th></th>\n",
       "      <th>RLA0</th>\n",
       "      <th>RLA1</th>\n",
       "      <th>RLA2</th>\n",
       "      <th>RLA3</th>\n",
       "      <th>RLA4</th>\n",
       "      <th>RLA5</th>\n",
       "      <th>RT_HRLT</th>\n",
       "      <th>AT10</th>\n",
       "      <th>AT20</th>\n",
       "      <th>AT30</th>\n",
       "      <th>...</th>\n",
       "      <th>PR</th>\n",
       "      <th>PR_FAST</th>\n",
       "      <th>VPVS</th>\n",
       "      <th>VPVS_FAST</th>\n",
       "      <th>CHR_FAST</th>\n",
       "      <th>CHR_XD</th>\n",
       "      <th>CHRP</th>\n",
       "      <th>TICO</th>\n",
       "      <th>MAXXENE_OVERALL</th>\n",
       "      <th>MINXENE_OVERALL</th>\n",
       "    </tr>\n",
       "    <tr>\n",
       "      <th>DEPT</th>\n",
       "      <th></th>\n",
       "      <th></th>\n",
       "      <th></th>\n",
       "      <th></th>\n",
       "      <th></th>\n",
       "      <th></th>\n",
       "      <th></th>\n",
       "      <th></th>\n",
       "      <th></th>\n",
       "      <th></th>\n",
       "      <th></th>\n",
       "      <th></th>\n",
       "      <th></th>\n",
       "      <th></th>\n",
       "      <th></th>\n",
       "      <th></th>\n",
       "      <th></th>\n",
       "      <th></th>\n",
       "      <th></th>\n",
       "      <th></th>\n",
       "      <th></th>\n",
       "    </tr>\n",
       "  </thead>\n",
       "  <tbody>\n",
       "    <tr>\n",
       "      <th>7240.0</th>\n",
       "      <td>0.03567</td>\n",
       "      <td>2.66649</td>\n",
       "      <td>16.74514</td>\n",
       "      <td>52.85175</td>\n",
       "      <td>77.98207</td>\n",
       "      <td>83.50034</td>\n",
       "      <td>112.57508</td>\n",
       "      <td>NaN</td>\n",
       "      <td>NaN</td>\n",
       "      <td>NaN</td>\n",
       "      <td>...</td>\n",
       "      <td>0.25531</td>\n",
       "      <td>0.2422</td>\n",
       "      <td>1.74454</td>\n",
       "      <td>1.71448</td>\n",
       "      <td>0.99586</td>\n",
       "      <td>0.99657</td>\n",
       "      <td>1.01302</td>\n",
       "      <td>820.26038</td>\n",
       "      <td>3.50627</td>\n",
       "      <td>0.40067</td>\n",
       "    </tr>\n",
       "    <tr>\n",
       "      <th>7239.5</th>\n",
       "      <td>0.03567</td>\n",
       "      <td>2.84599</td>\n",
       "      <td>17.63409</td>\n",
       "      <td>55.33049</td>\n",
       "      <td>81.24451</td>\n",
       "      <td>86.31766</td>\n",
       "      <td>116.08698</td>\n",
       "      <td>NaN</td>\n",
       "      <td>NaN</td>\n",
       "      <td>NaN</td>\n",
       "      <td>...</td>\n",
       "      <td>0.25531</td>\n",
       "      <td>0.2422</td>\n",
       "      <td>1.74454</td>\n",
       "      <td>1.71448</td>\n",
       "      <td>0.99589</td>\n",
       "      <td>0.99657</td>\n",
       "      <td>1.01302</td>\n",
       "      <td>820.26038</td>\n",
       "      <td>3.50627</td>\n",
       "      <td>0.40067</td>\n",
       "    </tr>\n",
       "    <tr>\n",
       "      <th>7239.0</th>\n",
       "      <td>0.03567</td>\n",
       "      <td>3.29378</td>\n",
       "      <td>18.70689</td>\n",
       "      <td>57.72603</td>\n",
       "      <td>84.21562</td>\n",
       "      <td>88.53780</td>\n",
       "      <td>131.14244</td>\n",
       "      <td>NaN</td>\n",
       "      <td>NaN</td>\n",
       "      <td>NaN</td>\n",
       "      <td>...</td>\n",
       "      <td>0.25531</td>\n",
       "      <td>0.2422</td>\n",
       "      <td>1.74454</td>\n",
       "      <td>1.71449</td>\n",
       "      <td>0.99594</td>\n",
       "      <td>0.99657</td>\n",
       "      <td>1.01302</td>\n",
       "      <td>820.26038</td>\n",
       "      <td>3.50627</td>\n",
       "      <td>0.40067</td>\n",
       "    </tr>\n",
       "    <tr>\n",
       "      <th>7238.5</th>\n",
       "      <td>0.03567</td>\n",
       "      <td>5.26073</td>\n",
       "      <td>22.63879</td>\n",
       "      <td>60.62992</td>\n",
       "      <td>86.46330</td>\n",
       "      <td>89.90987</td>\n",
       "      <td>134.22372</td>\n",
       "      <td>NaN</td>\n",
       "      <td>NaN</td>\n",
       "      <td>NaN</td>\n",
       "      <td>...</td>\n",
       "      <td>0.25531</td>\n",
       "      <td>0.2422</td>\n",
       "      <td>1.74454</td>\n",
       "      <td>1.71449</td>\n",
       "      <td>0.99600</td>\n",
       "      <td>0.99657</td>\n",
       "      <td>1.01302</td>\n",
       "      <td>820.26038</td>\n",
       "      <td>3.50627</td>\n",
       "      <td>0.40067</td>\n",
       "    </tr>\n",
       "    <tr>\n",
       "      <th>7238.0</th>\n",
       "      <td>0.03567</td>\n",
       "      <td>8.04574</td>\n",
       "      <td>34.95535</td>\n",
       "      <td>69.13100</td>\n",
       "      <td>91.33515</td>\n",
       "      <td>93.76358</td>\n",
       "      <td>136.13567</td>\n",
       "      <td>NaN</td>\n",
       "      <td>NaN</td>\n",
       "      <td>NaN</td>\n",
       "      <td>...</td>\n",
       "      <td>0.25531</td>\n",
       "      <td>0.2422</td>\n",
       "      <td>1.74454</td>\n",
       "      <td>1.71449</td>\n",
       "      <td>0.99606</td>\n",
       "      <td>0.99657</td>\n",
       "      <td>1.01302</td>\n",
       "      <td>820.26038</td>\n",
       "      <td>3.50627</td>\n",
       "      <td>0.40067</td>\n",
       "    </tr>\n",
       "  </tbody>\n",
       "</table>\n",
       "<p>5 rows × 43 columns</p>\n",
       "</div>"
      ],
      "text/plain": [
       "           RLA0     RLA1      RLA2      RLA3      RLA4      RLA5    RT_HRLT  \\\n",
       "DEPT                                                                          \n",
       "7240.0  0.03567  2.66649  16.74514  52.85175  77.98207  83.50034  112.57508   \n",
       "7239.5  0.03567  2.84599  17.63409  55.33049  81.24451  86.31766  116.08698   \n",
       "7239.0  0.03567  3.29378  18.70689  57.72603  84.21562  88.53780  131.14244   \n",
       "7238.5  0.03567  5.26073  22.63879  60.62992  86.46330  89.90987  134.22372   \n",
       "7238.0  0.03567  8.04574  34.95535  69.13100  91.33515  93.76358  136.13567   \n",
       "\n",
       "        AT10  AT20  AT30  ...       PR  PR_FAST     VPVS  VPVS_FAST  CHR_FAST  \\\n",
       "DEPT                      ...                                                   \n",
       "7240.0   NaN   NaN   NaN  ...  0.25531   0.2422  1.74454    1.71448   0.99586   \n",
       "7239.5   NaN   NaN   NaN  ...  0.25531   0.2422  1.74454    1.71448   0.99589   \n",
       "7239.0   NaN   NaN   NaN  ...  0.25531   0.2422  1.74454    1.71449   0.99594   \n",
       "7238.5   NaN   NaN   NaN  ...  0.25531   0.2422  1.74454    1.71449   0.99600   \n",
       "7238.0   NaN   NaN   NaN  ...  0.25531   0.2422  1.74454    1.71449   0.99606   \n",
       "\n",
       "         CHR_XD     CHRP       TICO  MAXXENE_OVERALL  MINXENE_OVERALL  \n",
       "DEPT                                                                   \n",
       "7240.0  0.99657  1.01302  820.26038          3.50627          0.40067  \n",
       "7239.5  0.99657  1.01302  820.26038          3.50627          0.40067  \n",
       "7239.0  0.99657  1.01302  820.26038          3.50627          0.40067  \n",
       "7238.5  0.99657  1.01302  820.26038          3.50627          0.40067  \n",
       "7238.0  0.99657  1.01302  820.26038          3.50627          0.40067  \n",
       "\n",
       "[5 rows x 43 columns]"
      ]
     },
     "execution_count": 10,
     "metadata": {},
     "output_type": "execute_result"
    }
   ],
   "source": [
    "well.head()"
   ]
  },
  {
   "cell_type": "code",
   "execution_count": 11,
   "id": "3bc6a52d",
   "metadata": {},
   "outputs": [
    {
     "data": {
      "text/plain": [
       "Index([7240.0, 7239.5, 7239.0, 7238.5, 7238.0, 7237.5, 7237.0, 7236.5, 7236.0,\n",
       "       7235.5,\n",
       "       ...\n",
       "        354.5,  354.0,  353.5,  353.0,  352.5,  352.0,  351.5,  351.0,  350.5,\n",
       "        350.0],\n",
       "      dtype='float64', name='DEPT', length=13781)"
      ]
     },
     "execution_count": 11,
     "metadata": {},
     "output_type": "execute_result"
    }
   ],
   "source": [
    "well.index"
   ]
  },
  {
   "cell_type": "code",
   "execution_count": 12,
   "id": "dced6326",
   "metadata": {},
   "outputs": [
    {
     "data": {
      "text/plain": [
       "<AxesSubplot:xlabel='DEPT'>"
      ]
     },
     "execution_count": 12,
     "metadata": {},
     "output_type": "execute_result"
    },
    {
     "data": {
      "image/png": "[encoded data removed]",
      "text/plain": [
       "<Figure size 432x288 with 1 Axes>"
      ]
     },
     "metadata": {},
     "output_type": "display_data"
    }
   ],
   "source": [
    "well.plot(y='DTCO')"
   ]
  },
  {
   "cell_type": "code",
   "execution_count": 13,
   "id": "1555a3e7",
   "metadata": {},
   "outputs": [
    {
     "data": {
      "text/plain": [
       "<AxesSubplot:xlabel='DEPT'>"
      ]
     },
     "execution_count": 13,
     "metadata": {},
     "output_type": "execute_result"
    },
    {
     "data": {
      "image/png": "[encoded data removed]",
      "text/plain": [
       "<Figure size 432x288 with 1 Axes>"
      ]
     },
     "metadata": {},
     "output_type": "display_data"
    }
   ],
   "source": [
    "well.plot(y='DTSM')"
   ]
  },
  {
   "cell_type": "code",
   "execution_count": 14,
   "id": "66cda72e",
   "metadata": {},
   "outputs": [
    {
     "data": {
      "text/plain": [
       "<AxesSubplot:xlabel='DEPT'>"
      ]
     },
     "execution_count": 14,
     "metadata": {},
     "output_type": "execute_result"
    },
    {
     "data": {
      "image/png": "[encoded data removed]",
      "text/plain": [
       "<Figure size 432x288 with 1 Axes>"
      ]
     },
     "metadata": {},
     "output_type": "display_data"
    }
   ],
   "source": [
    "well.plot(y='VPVS')"
   ]
  },
  {
   "cell_type": "code",
   "execution_count": 15,
   "id": "d4d172c6",
   "metadata": {},
   "outputs": [
    {
     "data": {
      "text/plain": [
       "<AxesSubplot:xlabel='DEPT', ylabel='velocity(ft/us)'>"
      ]
     },
     "execution_count": 15,
     "metadata": {},
     "output_type": "execute_result"
    },
    {
     "data": {
      "image/png": "[encoded data removed]",
      "text/plain": [
       "<Figure size 432x288 with 1 Axes>"
      ]
     },
     "metadata": {},
     "output_type": "display_data"
    }
   ],
   "source": [
    "well['Vs']=1/well['DTSM']\n",
    "well.plot(y='Vs',ylabel='velocity(ft/us)')"
   ]
  },
  {
   "cell_type": "code",
   "execution_count": 16,
   "id": "1d534c08",
   "metadata": {},
   "outputs": [
    {
     "data": {
      "text/plain": [
       "<AxesSubplot:xlabel='DEPT', ylabel='velocity(ft/us)'>"
      ]
     },
     "execution_count": 16,
     "metadata": {},
     "output_type": "execute_result"
    },
    {
     "data": {
      "image/png": "[encoded data removed]",
      "text/plain": [
       "<Figure size 432x288 with 1 Axes>"
      ]
     },
     "metadata": {},
     "output_type": "display_data"
    }
   ],
   "source": [
    "well['Vp']=1/well['DTCO']\n",
    "well.plot(y='Vp',ylabel='velocity(ft/us)')"
   ]
  },
  {
   "cell_type": "code",
   "execution_count": 17,
   "id": "9135106a",
   "metadata": {},
   "outputs": [
    {
     "ename": "ValueError",
     "evalue": "Multi-dimensional indexing (e.g. `obj[:, None]`) is no longer supported. Convert to a numpy array before indexing instead.",
     "output_type": "error",
     "traceback": [
      "\u001b[1;31m---------------------------------------------------------------------------\u001b[0m",
      "\u001b[1;31mValueError\u001b[0m                                Traceback (most recent call last)",
      "\u001b[1;32m~\\AppData\\Local\\Temp/ipykernel_30464/3086254966.py\u001b[0m in \u001b[0;36m<module>\u001b[1;34m\u001b[0m\n\u001b[0;32m      2\u001b[0m \u001b[0max1\u001b[0m\u001b[1;33m=\u001b[0m \u001b[0mfig\u001b[0m\u001b[1;33m.\u001b[0m\u001b[0madd_subplot\u001b[0m\u001b[1;33m(\u001b[0m\u001b[1;36m1\u001b[0m\u001b[1;33m,\u001b[0m\u001b[1;36m2\u001b[0m\u001b[1;33m,\u001b[0m\u001b[1;36m1\u001b[0m\u001b[1;33m)\u001b[0m\u001b[1;33m\u001b[0m\u001b[1;33m\u001b[0m\u001b[0m\n\u001b[0;32m      3\u001b[0m \u001b[0max2\u001b[0m\u001b[1;33m=\u001b[0m \u001b[0mfig\u001b[0m\u001b[1;33m.\u001b[0m\u001b[0madd_subplot\u001b[0m\u001b[1;33m(\u001b[0m\u001b[1;36m1\u001b[0m\u001b[1;33m,\u001b[0m\u001b[1;36m2\u001b[0m\u001b[1;33m,\u001b[0m\u001b[1;36m2\u001b[0m\u001b[1;33m)\u001b[0m\u001b[1;33m\u001b[0m\u001b[1;33m\u001b[0m\u001b[0m\n\u001b[1;32m----> 4\u001b[1;33m \u001b[0max1\u001b[0m\u001b[1;33m.\u001b[0m\u001b[0mplot\u001b[0m\u001b[1;33m(\u001b[0m\u001b[0mwell\u001b[0m\u001b[1;33m[\u001b[0m\u001b[1;34m'Vs'\u001b[0m\u001b[1;33m]\u001b[0m\u001b[1;33m,\u001b[0m\u001b[0mwell\u001b[0m\u001b[1;33m.\u001b[0m\u001b[0mindex\u001b[0m\u001b[1;33m,\u001b[0m \u001b[0mcolor\u001b[0m\u001b[1;33m=\u001b[0m\u001b[1;34m'r'\u001b[0m\u001b[1;33m)\u001b[0m\u001b[1;33m\u001b[0m\u001b[1;33m\u001b[0m\u001b[0m\n\u001b[0m\u001b[0;32m      5\u001b[0m \u001b[0max2\u001b[0m\u001b[1;33m.\u001b[0m\u001b[0mplot\u001b[0m\u001b[1;33m(\u001b[0m\u001b[0mwell\u001b[0m\u001b[1;33m[\u001b[0m\u001b[1;34m'Vp'\u001b[0m\u001b[1;33m]\u001b[0m\u001b[1;33m,\u001b[0m\u001b[0mwell\u001b[0m\u001b[1;33m.\u001b[0m\u001b[0mindex\u001b[0m\u001b[1;33m,\u001b[0m \u001b[0mcolor\u001b[0m\u001b[1;33m=\u001b[0m\u001b[1;34m'g'\u001b[0m\u001b[1;33m)\u001b[0m\u001b[1;33m\u001b[0m\u001b[1;33m\u001b[0m\u001b[0m\n\u001b[0;32m      6\u001b[0m \u001b[0max1\u001b[0m\u001b[1;33m.\u001b[0m\u001b[0minvert_yaxis\u001b[0m\u001b[1;33m(\u001b[0m\u001b[1;33m)\u001b[0m\u001b[1;33m\u001b[0m\u001b[1;33m\u001b[0m\u001b[0m\n",
      "\u001b[1;32m~\\anaconda3\\envs\\pytorchenv\\lib\\site-packages\\matplotlib\\axes\\_axes.py\u001b[0m in \u001b[0;36mplot\u001b[1;34m(self, scalex, scaley, data, *args, **kwargs)\u001b[0m\n\u001b[0;32m   1603\u001b[0m         \"\"\"\n\u001b[0;32m   1604\u001b[0m         \u001b[0mkwargs\u001b[0m \u001b[1;33m=\u001b[0m \u001b[0mcbook\u001b[0m\u001b[1;33m.\u001b[0m\u001b[0mnormalize_kwargs\u001b[0m\u001b[1;33m(\u001b[0m\u001b[0mkwargs\u001b[0m\u001b[1;33m,\u001b[0m \u001b[0mmlines\u001b[0m\u001b[1;33m.\u001b[0m\u001b[0mLine2D\u001b[0m\u001b[1;33m)\u001b[0m\u001b[1;33m\u001b[0m\u001b[1;33m\u001b[0m\u001b[0m\n\u001b[1;32m-> 1605\u001b[1;33m         \u001b[0mlines\u001b[0m \u001b[1;33m=\u001b[0m \u001b[1;33m[\u001b[0m\u001b[1;33m*\u001b[0m\u001b[0mself\u001b[0m\u001b[1;33m.\u001b[0m\u001b[0m_get_lines\u001b[0m\u001b[1;33m(\u001b[0m\u001b[1;33m*\u001b[0m\u001b[0margs\u001b[0m\u001b[1;33m,\u001b[0m \u001b[0mdata\u001b[0m\u001b[1;33m=\u001b[0m\u001b[0mdata\u001b[0m\u001b[1;33m,\u001b[0m \u001b[1;33m**\u001b[0m\u001b[0mkwargs\u001b[0m\u001b[1;33m)\u001b[0m\u001b[1;33m]\u001b[0m\u001b[1;33m\u001b[0m\u001b[1;33m\u001b[0m\u001b[0m\n\u001b[0m\u001b[0;32m   1606\u001b[0m         \u001b[1;32mfor\u001b[0m \u001b[0mline\u001b[0m \u001b[1;32min\u001b[0m \u001b[0mlines\u001b[0m\u001b[1;33m:\u001b[0m\u001b[1;33m\u001b[0m\u001b[1;33m\u001b[0m\u001b[0m\n\u001b[0;32m   1607\u001b[0m             \u001b[0mself\u001b[0m\u001b[1;33m.\u001b[0m\u001b[0madd_line\u001b[0m\u001b[1;33m(\u001b[0m\u001b[0mline\u001b[0m\u001b[1;33m)\u001b[0m\u001b[1;33m\u001b[0m\u001b[1;33m\u001b[0m\u001b[0m\n",
      "\u001b[1;32m~\\anaconda3\\envs\\pytorchenv\\lib\\site-packages\\matplotlib\\axes\\_base.py\u001b[0m in \u001b[0;36m__call__\u001b[1;34m(self, data, *args, **kwargs)\u001b[0m\n\u001b[0;32m    313\u001b[0m                 \u001b[0mthis\u001b[0m \u001b[1;33m+=\u001b[0m \u001b[0margs\u001b[0m\u001b[1;33m[\u001b[0m\u001b[1;36m0\u001b[0m\u001b[1;33m]\u001b[0m\u001b[1;33m,\u001b[0m\u001b[1;33m\u001b[0m\u001b[1;33m\u001b[0m\u001b[0m\n\u001b[0;32m    314\u001b[0m                 \u001b[0margs\u001b[0m \u001b[1;33m=\u001b[0m \u001b[0margs\u001b[0m\u001b[1;33m[\u001b[0m\u001b[1;36m1\u001b[0m\u001b[1;33m:\u001b[0m\u001b[1;33m]\u001b[0m\u001b[1;33m\u001b[0m\u001b[1;33m\u001b[0m\u001b[0m\n\u001b[1;32m--> 315\u001b[1;33m             \u001b[1;32myield\u001b[0m \u001b[1;32mfrom\u001b[0m \u001b[0mself\u001b[0m\u001b[1;33m.\u001b[0m\u001b[0m_plot_args\u001b[0m\u001b[1;33m(\u001b[0m\u001b[0mthis\u001b[0m\u001b[1;33m,\u001b[0m \u001b[0mkwargs\u001b[0m\u001b[1;33m)\u001b[0m\u001b[1;33m\u001b[0m\u001b[1;33m\u001b[0m\u001b[0m\n\u001b[0m\u001b[0;32m    316\u001b[0m \u001b[1;33m\u001b[0m\u001b[0m\n\u001b[0;32m    317\u001b[0m     \u001b[1;32mdef\u001b[0m \u001b[0mget_next_color\u001b[0m\u001b[1;33m(\u001b[0m\u001b[0mself\u001b[0m\u001b[1;33m)\u001b[0m\u001b[1;33m:\u001b[0m\u001b[1;33m\u001b[0m\u001b[1;33m\u001b[0m\u001b[0m\n",
      "\u001b[1;32m~\\anaconda3\\envs\\pytorchenv\\lib\\site-packages\\matplotlib\\axes\\_base.py\u001b[0m in \u001b[0;36m_plot_args\u001b[1;34m(self, tup, kwargs, return_kwargs)\u001b[0m\n\u001b[0;32m    488\u001b[0m \u001b[1;33m\u001b[0m\u001b[0m\n\u001b[0;32m    489\u001b[0m         \u001b[1;32mif\u001b[0m \u001b[0mlen\u001b[0m\u001b[1;33m(\u001b[0m\u001b[0mxy\u001b[0m\u001b[1;33m)\u001b[0m \u001b[1;33m==\u001b[0m \u001b[1;36m2\u001b[0m\u001b[1;33m:\u001b[0m\u001b[1;33m\u001b[0m\u001b[1;33m\u001b[0m\u001b[0m\n\u001b[1;32m--> 490\u001b[1;33m             \u001b[0mx\u001b[0m \u001b[1;33m=\u001b[0m \u001b[0m_check_1d\u001b[0m\u001b[1;33m(\u001b[0m\u001b[0mxy\u001b[0m\u001b[1;33m[\u001b[0m\u001b[1;36m0\u001b[0m\u001b[1;33m]\u001b[0m\u001b[1;33m)\u001b[0m\u001b[1;33m\u001b[0m\u001b[1;33m\u001b[0m\u001b[0m\n\u001b[0m\u001b[0;32m    491\u001b[0m             \u001b[0my\u001b[0m \u001b[1;33m=\u001b[0m \u001b[0m_check_1d\u001b[0m\u001b[1;33m(\u001b[0m\u001b[0mxy\u001b[0m\u001b[1;33m[\u001b[0m\u001b[1;36m1\u001b[0m\u001b[1;33m]\u001b[0m\u001b[1;33m)\u001b[0m\u001b[1;33m\u001b[0m\u001b[1;33m\u001b[0m\u001b[0m\n\u001b[0;32m    492\u001b[0m         \u001b[1;32melse\u001b[0m\u001b[1;33m:\u001b[0m\u001b[1;33m\u001b[0m\u001b[1;33m\u001b[0m\u001b[0m\n",
      "\u001b[1;32m~\\anaconda3\\envs\\pytorchenv\\lib\\site-packages\\matplotlib\\cbook\\__init__.py\u001b[0m in \u001b[0;36m_check_1d\u001b[1;34m(x)\u001b[0m\n\u001b[0;32m   1360\u001b[0m                     message='Support for multi-dimensional indexing')\n\u001b[0;32m   1361\u001b[0m \u001b[1;33m\u001b[0m\u001b[0m\n\u001b[1;32m-> 1362\u001b[1;33m                 \u001b[0mndim\u001b[0m \u001b[1;33m=\u001b[0m \u001b[0mx\u001b[0m\u001b[1;33m[\u001b[0m\u001b[1;33m:\u001b[0m\u001b[1;33m,\u001b[0m \u001b[1;32mNone\u001b[0m\u001b[1;33m]\u001b[0m\u001b[1;33m.\u001b[0m\u001b[0mndim\u001b[0m\u001b[1;33m\u001b[0m\u001b[1;33m\u001b[0m\u001b[0m\n\u001b[0m\u001b[0;32m   1363\u001b[0m                 \u001b[1;31m# we have definitely hit a pandas index or series object\u001b[0m\u001b[1;33m\u001b[0m\u001b[1;33m\u001b[0m\u001b[1;33m\u001b[0m\u001b[0m\n\u001b[0;32m   1364\u001b[0m                 \u001b[1;31m# cast to a numpy array.\u001b[0m\u001b[1;33m\u001b[0m\u001b[1;33m\u001b[0m\u001b[1;33m\u001b[0m\u001b[0m\n",
      "\u001b[1;32m~\\anaconda3\\envs\\pytorchenv\\lib\\site-packages\\pandas\\core\\series.py\u001b[0m in \u001b[0;36m__getitem__\u001b[1;34m(self, key)\u001b[0m\n\u001b[0;32m   1031\u001b[0m             \u001b[1;32mreturn\u001b[0m \u001b[0mself\u001b[0m\u001b[1;33m.\u001b[0m\u001b[0m_get_values\u001b[0m\u001b[1;33m(\u001b[0m\u001b[0mkey\u001b[0m\u001b[1;33m)\u001b[0m\u001b[1;33m\u001b[0m\u001b[1;33m\u001b[0m\u001b[0m\n\u001b[0;32m   1032\u001b[0m \u001b[1;33m\u001b[0m\u001b[0m\n\u001b[1;32m-> 1033\u001b[1;33m         \u001b[1;32mreturn\u001b[0m \u001b[0mself\u001b[0m\u001b[1;33m.\u001b[0m\u001b[0m_get_with\u001b[0m\u001b[1;33m(\u001b[0m\u001b[0mkey\u001b[0m\u001b[1;33m)\u001b[0m\u001b[1;33m\u001b[0m\u001b[1;33m\u001b[0m\u001b[0m\n\u001b[0m\u001b[0;32m   1034\u001b[0m \u001b[1;33m\u001b[0m\u001b[0m\n\u001b[0;32m   1035\u001b[0m     \u001b[1;32mdef\u001b[0m \u001b[0m_get_with\u001b[0m\u001b[1;33m(\u001b[0m\u001b[0mself\u001b[0m\u001b[1;33m,\u001b[0m \u001b[0mkey\u001b[0m\u001b[1;33m)\u001b[0m\u001b[1;33m:\u001b[0m\u001b[1;33m\u001b[0m\u001b[1;33m\u001b[0m\u001b[0m\n",
      "\u001b[1;32m~\\anaconda3\\envs\\pytorchenv\\lib\\site-packages\\pandas\\core\\series.py\u001b[0m in \u001b[0;36m_get_with\u001b[1;34m(self, key)\u001b[0m\n\u001b[0;32m   1046\u001b[0m             )\n\u001b[0;32m   1047\u001b[0m         \u001b[1;32melif\u001b[0m \u001b[0misinstance\u001b[0m\u001b[1;33m(\u001b[0m\u001b[0mkey\u001b[0m\u001b[1;33m,\u001b[0m \u001b[0mtuple\u001b[0m\u001b[1;33m)\u001b[0m\u001b[1;33m:\u001b[0m\u001b[1;33m\u001b[0m\u001b[1;33m\u001b[0m\u001b[0m\n\u001b[1;32m-> 1048\u001b[1;33m             \u001b[1;32mreturn\u001b[0m \u001b[0mself\u001b[0m\u001b[1;33m.\u001b[0m\u001b[0m_get_values_tuple\u001b[0m\u001b[1;33m(\u001b[0m\u001b[0mkey\u001b[0m\u001b[1;33m)\u001b[0m\u001b[1;33m\u001b[0m\u001b[1;33m\u001b[0m\u001b[0m\n\u001b[0m\u001b[0;32m   1049\u001b[0m \u001b[1;33m\u001b[0m\u001b[0m\n\u001b[0;32m   1050\u001b[0m         \u001b[1;32melif\u001b[0m \u001b[1;32mnot\u001b[0m \u001b[0mis_list_like\u001b[0m\u001b[1;33m(\u001b[0m\u001b[0mkey\u001b[0m\u001b[1;33m)\u001b[0m\u001b[1;33m:\u001b[0m\u001b[1;33m\u001b[0m\u001b[1;33m\u001b[0m\u001b[0m\n",
      "\u001b[1;32m~\\anaconda3\\envs\\pytorchenv\\lib\\site-packages\\pandas\\core\\series.py\u001b[0m in \u001b[0;36m_get_values_tuple\u001b[1;34m(self, key)\u001b[0m\n\u001b[0;32m   1080\u001b[0m             \u001b[1;31m# the asarray is needed to avoid returning a 2D DatetimeArray\u001b[0m\u001b[1;33m\u001b[0m\u001b[1;33m\u001b[0m\u001b[1;33m\u001b[0m\u001b[0m\n\u001b[0;32m   1081\u001b[0m             \u001b[0mresult\u001b[0m \u001b[1;33m=\u001b[0m \u001b[0mnp\u001b[0m\u001b[1;33m.\u001b[0m\u001b[0masarray\u001b[0m\u001b[1;33m(\u001b[0m\u001b[0mself\u001b[0m\u001b[1;33m.\u001b[0m\u001b[0m_values\u001b[0m\u001b[1;33m[\u001b[0m\u001b[0mkey\u001b[0m\u001b[1;33m]\u001b[0m\u001b[1;33m)\u001b[0m\u001b[1;33m\u001b[0m\u001b[1;33m\u001b[0m\u001b[0m\n\u001b[1;32m-> 1082\u001b[1;33m             \u001b[0mdisallow_ndim_indexing\u001b[0m\u001b[1;33m(\u001b[0m\u001b[0mresult\u001b[0m\u001b[1;33m)\u001b[0m\u001b[1;33m\u001b[0m\u001b[1;33m\u001b[0m\u001b[0m\n\u001b[0m\u001b[0;32m   1083\u001b[0m             \u001b[1;32mreturn\u001b[0m \u001b[0mresult\u001b[0m\u001b[1;33m\u001b[0m\u001b[1;33m\u001b[0m\u001b[0m\n\u001b[0;32m   1084\u001b[0m \u001b[1;33m\u001b[0m\u001b[0m\n",
      "\u001b[1;32m~\\anaconda3\\envs\\pytorchenv\\lib\\site-packages\\pandas\\core\\indexers\\utils.py\u001b[0m in \u001b[0;36mdisallow_ndim_indexing\u001b[1;34m(result)\u001b[0m\n\u001b[0;32m    341\u001b[0m     \"\"\"\n\u001b[0;32m    342\u001b[0m     \u001b[1;32mif\u001b[0m \u001b[0mnp\u001b[0m\u001b[1;33m.\u001b[0m\u001b[0mndim\u001b[0m\u001b[1;33m(\u001b[0m\u001b[0mresult\u001b[0m\u001b[1;33m)\u001b[0m \u001b[1;33m>\u001b[0m \u001b[1;36m1\u001b[0m\u001b[1;33m:\u001b[0m\u001b[1;33m\u001b[0m\u001b[1;33m\u001b[0m\u001b[0m\n\u001b[1;32m--> 343\u001b[1;33m         raise ValueError(\n\u001b[0m\u001b[0;32m    344\u001b[0m             \u001b[1;34m\"Multi-dimensional indexing (e.g. `obj[:, None]`) is no longer \"\u001b[0m\u001b[1;33m\u001b[0m\u001b[1;33m\u001b[0m\u001b[0m\n\u001b[0;32m    345\u001b[0m             \u001b[1;34m\"supported. Convert to a numpy array before indexing instead.\"\u001b[0m\u001b[1;33m\u001b[0m\u001b[1;33m\u001b[0m\u001b[0m\n",
      "\u001b[1;31mValueError\u001b[0m: Multi-dimensional indexing (e.g. `obj[:, None]`) is no longer supported. Convert to a numpy array before indexing instead."
     ]
    },
    {
     "data": {
      "image/png": "[encoded data removed]",
      "text/plain": [
       "<Figure size 720x1440 with 2 Axes>"
      ]
     },
     "metadata": {},
     "output_type": "display_data"
    }
   ],
   "source": [
    "fig=plt.figure(figsize=(10,20))\n",
    "ax1= fig.add_subplot(1,2,1)\n",
    "ax2= fig.add_subplot(1,2,2)\n",
    "ax1.plot(well['Vs'],well.index, color='r')\n",
    "ax2.plot(well['Vp'],well.index, color='g')\n",
    "ax1.invert_yaxis()\n",
    "ax2.invert_yaxis()\n",
    "\n",
    "ax1.set_xlabel('Velocity (ft/$\\mu$s)')\n",
    "ax1.set_ylabel('Depth (ft)')\n",
    "ax2.set_xlabel('Velocity (ft/$\\mu$s)')\n",
    "ax2.set_ylabel('Depth (ft)')\n",
    "\n",
    "ax1.set_title('Vs')\n",
    "ax2.set_title('Vp')"
   ]
  },
  {
   "cell_type": "code",
   "execution_count": null,
   "id": "980be3fc",
   "metadata": {},
   "outputs": [],
   "source": [
    "plt.figure(figsize=(8, 20))\n",
    "\n",
    "plt.plot(well['VPVS'],well.index,'b-',label='Vp/Vs')\n",
    "plt.ylabel('DEPTH (ft)')\n",
    "plt.title(\"Vp/Vs\")\n",
    "plt.legend()\n",
    "\n",
    "plt.gca().invert_yaxis()\n",
    "\n",
    "plt.show()"
   ]
  },
  {
   "cell_type": "code",
   "execution_count": null,
   "id": "653ab69f",
   "metadata": {},
   "outputs": [],
   "source": [
    "fig1=plt.figure(figsize=(10,20))\n",
    "ax11= fig1.add_subplot(1,2,1)\n",
    "ax12= fig1.add_subplot(1,2,2)\n",
    "ax11.plot(1/well['DTSM_FAST'],well.index, color='m')\n",
    "ax12.plot(1/well['DTST'],well.index, color='orange')\n",
    "ax11.invert_yaxis()\n",
    "ax12.invert_yaxis()\n",
    "\n",
    "ax11.set_xlabel('Velocity fast shear waves (ft/$\\mu$s)')\n",
    "ax11.set_ylabel('Depth (ft)')\n",
    "ax12.set_xlabel('Velocity Stoneley waves(ft/$\\mu$s)')\n",
    "ax12.set_ylabel('Depth (ft)')\n",
    "\n",
    "ax11.set_title('fast shear waves')\n",
    "ax12.set_title('Stoneley waves')"
   ]
  },
  {
   "cell_type": "code",
   "execution_count": null,
   "id": "b76c7fe7",
   "metadata": {
    "scrolled": false
   },
   "outputs": [],
   "source": [
    "# Crear la figura con una cuadrícula de 1 fila y 4 columnas\n",
    "fig, axes = plt.subplots(1, 4, figsize=(20, 10))\n",
    "\n",
    "marker_size=3\n",
    "\n",
    "# Primer gráfico (Vs)\n",
    "axes[0].plot(well['Vs'], well.index, color='r', marker='o', linestyle='None', markersize=marker_size)\n",
    "axes[0].invert_yaxis()\n",
    "axes[0].set_xlabel('Velocity (ft/$\\mu$s)')\n",
    "axes[0].set_ylabel('Depth (ft)')\n",
    "axes[0].set_title('Vs')\n",
    "\n",
    "# Segundo gráfico (Vp)\n",
    "axes[1].plot(well['Vp'], well.index, color='g', marker='o', linestyle='None', markersize=marker_size)\n",
    "axes[1].invert_yaxis()\n",
    "axes[1].set_xlabel('Velocity (ft/$\\mu$s)')\n",
    "axes[1].set_ylabel('Depth (ft)')\n",
    "axes[1].set_title('Vp')\n",
    "\n",
    "# Tercer gráfico (DTSM_FAST)\n",
    "axes[2].plot(1/well['DTSM_FAST'], well.index, color='m', marker='o', linestyle='None', markersize=marker_size)\n",
    "axes[2].invert_yaxis()\n",
    "axes[2].set_xlabel('Velocity fast shear waves (ft/$\\mu$s)')\n",
    "axes[2].set_ylabel('Depth (ft)')\n",
    "axes[2].set_title('Fast shear waves')\n",
    "\n",
    "# Cuarto gráfico (DTST)\n",
    "axes[3].plot(1/well['DTST'], well.index, color='orange', marker='o', linestyle='None', markersize=marker_size)\n",
    "axes[3].invert_yaxis()\n",
    "axes[3].set_xlabel('Velocity Stoneley waves (ft/$\\mu$s)')\n",
    "axes[3].set_ylabel('Depth (ft)')\n",
    "axes[3].set_title('Stoneley waves')\n",
    "\n",
    "# Ajustar el espacio entre los subplots\n",
    "plt.tight_layout()\n",
    "\n",
    "# Mostrar la figura\n",
    "plt.show()\n"
   ]
  },
  {
   "cell_type": "code",
   "execution_count": null,
   "id": "474f3701",
   "metadata": {},
   "outputs": [],
   "source": [
    "fig_n, axes_n = plt.subplots(1, 2, figsize=(20, 15))\n",
    "\n",
    "# Primer gráfico (Vp/Vs)\n",
    "axes_n[0].plot(well['VPVS'], well.index, color='darkorchid', marker='o', linestyle='None', markersize=marker_size)\n",
    "axes_n[0].invert_yaxis()\n",
    "axes_n[0].set_xlabel('ratio vp/vs')\n",
    "axes_n[0].set_ylabel('Depth (ft)')\n",
    "axes_n[0].set_title('Vs')\n",
    "\n",
    "axes_n[1].plot(well['VPVS_FAST'], well.index, color='hotpink', marker='o', linestyle='None', markersize=marker_size)\n",
    "axes_n[1].invert_yaxis()\n",
    "axes_n[1].set_xlabel('ratio $vp/vs_{fast}$')\n",
    "axes_n[1].set_ylabel('Depth (ft)')\n",
    "axes_n[1].set_title('Vp/Vs_FAST')\n",
    "\n",
    "# Ajustar el espacio entre los subplots\n",
    "plt.tight_layout()\n",
    "\n",
    "# Mostrar la figura\n",
    "plt.show()"
   ]
  },
  {
   "cell_type": "markdown",
   "id": "13995caa",
   "metadata": {},
   "source": [
    "### Smooth the data"
   ]
  },
  {
   "cell_type": "code",
   "execution_count": null,
   "id": "830d50ad",
   "metadata": {},
   "outputs": [],
   "source": [
    "well_clean = well.dropna(subset=['Vs', 'Vp', 'DTSM_FAST', 'DTST','VPVS','VPVS_FAST','RHOZ'])\n",
    "\n",
    "depth = well_clean.index.values"
   ]
  },
  {
   "cell_type": "code",
   "execution_count": null,
   "id": "7f4c99a7",
   "metadata": {},
   "outputs": [],
   "source": [
    "def moving_average(data, window_size):\n",
    "    averaged_data = []\n",
    "    for i in range(len(data)):\n",
    "        if i < window_size - 1:\n",
    "            averaged_data.append(np.nan)  # Si no hay suficientes datos para llenar la ventana, agregar NaN\n",
    "        else:\n",
    "            window = data[i - window_size + 1:i + 1]\n",
    "            window_average = np.mean(window)\n",
    "            averaged_data.append(window_average)\n",
    "    return np.array(averaged_data)"
   ]
  },
  {
   "cell_type": "code",
   "execution_count": null,
   "id": "2437b224",
   "metadata": {},
   "outputs": [],
   "source": [
    "filt_l=200\n",
    "tair_mov_average=moving_average(well_clean['Vs'].values,filt_l)"
   ]
  },
  {
   "cell_type": "code",
   "execution_count": null,
   "id": "64bddec5",
   "metadata": {},
   "outputs": [],
   "source": [
    "plt.figure(figsize=(4,7))\n",
    "\n",
    "plt.plot(well_clean['Vs'],depth)\n",
    "plt.plot(tair_mov_average,depth)\n",
    "plt.plot(signal.savgol_filter(well_clean['Vs'].values, 250, 5),depth)\n",
    "plt.gca().invert_yaxis()"
   ]
  },
  {
   "cell_type": "code",
   "execution_count": null,
   "id": "aef9b75c",
   "metadata": {},
   "outputs": [],
   "source": [
    "print(well['Vs'].values)"
   ]
  },
  {
   "cell_type": "code",
   "execution_count": null,
   "id": "dc96b48d",
   "metadata": {
    "scrolled": true
   },
   "outputs": [],
   "source": [
    "fig = go.Figure()\n",
    "\n",
    "fig.add_trace(go.Scatter(\n",
    "    x=well_clean['Vs'].values,\n",
    "    y=depth,\n",
    "    mode='markers',\n",
    "    marker=dict(size=2, color='mediumpurple'),\n",
    "    name='Vs'\n",
    "))\n",
    "\n",
    "fig.add_trace(go.Scatter(\n",
    "    x=signal.savgol_filter(well_clean['Vs'].values, 250, 5),  # Ventana de tamaño 53 y polinomio de orden 3\n",
    "    y=depth,\n",
    "    marker=dict(\n",
    "        size=6,\n",
    "        color='black',\n",
    "        symbol='triangle-up'\n",
    "    ),\n",
    "    name='Savitzky-Golay pol 3'\n",
    "))\n",
    "fig.add_trace(go.Scatter(\n",
    "    x=tair_mov_average,  # Ventana de tamaño 53 y polinomio de orden 3\n",
    "    y=depth,\n",
    "    marker=dict(\n",
    "        size=6,\n",
    "        color='hotpink',\n",
    "        symbol='triangle-up'\n",
    "    ),\n",
    "    name='mov average'\n",
    "))\n",
    "fig.update_layout(\n",
    "    width=800,  # Ajusta el ancho según tus necesidades\n",
    "    height=1000,  # Ajusta la altura para hacer la figura más larga\n",
    "    yaxis_autorange='reversed' \n",
    ")\n",
    "fig.show()"
   ]
  },
  {
   "cell_type": "code",
   "execution_count": null,
   "id": "f3373edc",
   "metadata": {},
   "outputs": [],
   "source": [
    "#todas las graficas lol"
   ]
  },
  {
   "cell_type": "code",
   "execution_count": null,
   "id": "498d20f3",
   "metadata": {},
   "outputs": [],
   "source": [
    "fig = make_subplots(rows=1, cols=4, shared_yaxes=True, subplot_titles=(\"Vs\", \"Vp\", \"Fast shear waves\", \"Stoneley waves\"))\n",
    "\n",
    "# Añadir la primera subtrama (Vs)\n",
    "fig.add_trace(go.Scatter(\n",
    "    x=signal.savgol_filter(well_clean['Vs'].values, 300, 5),  # Ventana de tamaño 53 y polinomio de orden 3\n",
    "    y=depth,\n",
    "    marker=dict(\n",
    "        size=2,\n",
    "        color='mediumpurple',\n",
    "        symbol='triangle-up'\n",
    "    ),\n",
    "    name='Vs'\n",
    "),row=1, col=1)\n",
    "\n",
    "# Añadir la segunda subtrama (Vp)\n",
    "fig.add_trace(go.Scatter(\n",
    "    x=signal.savgol_filter(well_clean['Vp'].values, 300, 5),  # Ventana de tamaño 53 y polinomio de orden 3\n",
    "    y=depth,\n",
    "    marker=dict(\n",
    "        size=2,\n",
    "        color='mediumaquamarine',\n",
    "        symbol='triangle-up'\n",
    "    ),\n",
    "    name='Vp'\n",
    "),row=1, col=2)\n",
    "\n",
    "# Añadir la tercera subtrama (Fast shear waves)\n",
    "\n",
    "fig.add_trace(go.Scatter(\n",
    "    x=signal.savgol_filter(1/well_clean['DTSM_FAST'].values, 150, 5),  # Ventana de tamaño 53 y polinomio de orden 3\n",
    "    y=depth,\n",
    "    marker=dict(\n",
    "        size=2,\n",
    "        color='purple',\n",
    "        symbol='triangle-up'\n",
    "    ),\n",
    "    name='Fast shear waves'\n",
    "),row=1, col=3)\n",
    "\n",
    "# Añadir la cuarta subtrama (Stoneley waves)\n",
    "fig.add_trace(go.Scatter(\n",
    "    x=signal.savgol_filter(1/well_clean['DTST'].values, 150, 5),  # Ventana de tamaño 53 y polinomio de orden 3\n",
    "    y=depth,\n",
    "    marker=dict(\n",
    "        size=2,\n",
    "        color='steelblue',\n",
    "        symbol='triangle-up'\n",
    "    ),\n",
    "    name='Stoneley waves'\n",
    "),row=1, col=4)\n",
    "\n",
    "# Invertir el eje y en todas las subtramas\n",
    "fig.update_yaxes(autorange='reversed')\n",
    "\n",
    "# Ajustar el diseño\n",
    "fig.update_layout(\n",
    "    width=1200,  # Ajusta el ancho de la figura\n",
    "    height=600,  # Ajusta la altura de la figura\n",
    "    showlegend=False,\n",
    "    title_text=\"Well Data\"\n",
    ")\n",
    "\n",
    "# Mostrar la figura\n",
    "fig.show()"
   ]
  },
  {
   "cell_type": "code",
   "execution_count": null,
   "id": "c50d9812",
   "metadata": {},
   "outputs": [],
   "source": [
    "well.plot(y='RHOZ')"
   ]
  },
  {
   "cell_type": "code",
   "execution_count": null,
   "id": "a778fc62",
   "metadata": {},
   "outputs": [],
   "source": [
    "fig = make_subplots(rows=1, cols=7, shared_yaxes=True, subplot_titles=(\"Density\", \"Vs\", \"Vp\", \"Fast shear waves\", \"Stoneley waves\",\"Vp/Vs\", \"Vp/vs_Fast\"))\n",
    "\n",
    "fig.add_trace(go.Scatter(\n",
    "    x=signal.savgol_filter(well_clean['RHOZ'].values, 300, 5),  # Ventana de tamaño 53 y polinomio de orden 3\n",
    "    y=depth,\n",
    "    marker=dict(\n",
    "        size=2,\n",
    "        color='purple',\n",
    "        symbol='triangle-up'\n",
    "    ),\n",
    "    name='Density'\n",
    "),row=1, col=1)\n",
    "\n",
    "# Añadir la primera subtrama (Vs)\n",
    "fig.add_trace(go.Scatter(\n",
    "    x=signal.savgol_filter(well_clean['Vs'].values, 300, 5),  # Ventana de tamaño 53 y polinomio de orden 3\n",
    "    y=depth,\n",
    "    marker=dict(\n",
    "        size=2,\n",
    "        color='mediumpurple',\n",
    "        symbol='triangle-up'\n",
    "    ),\n",
    "    name='Vs'\n",
    "),row=1, col=2)\n",
    "\n",
    "# Añadir la segunda subtrama (Vp)\n",
    "fig.add_trace(go.Scatter(\n",
    "    x=signal.savgol_filter(well_clean['Vp'].values, 300, 5),  # Ventana de tamaño 53 y polinomio de orden 3\n",
    "    y=depth,\n",
    "    marker=dict(\n",
    "        size=2,\n",
    "        color='mediumaquamarine',\n",
    "        symbol='triangle-up'\n",
    "    ),\n",
    "    name='Vp'\n",
    "),row=1, col=3)\n",
    "\n",
    "# Añadir la tercera subtrama (Fast shear waves)\n",
    "\n",
    "fig.add_trace(go.Scatter(\n",
    "    x=signal.savgol_filter(1/well_clean['DTSM_FAST'].values, 150, 5),  # Ventana de tamaño 53 y polinomio de orden 3\n",
    "    y=depth,\n",
    "    marker=dict(\n",
    "        size=2,\n",
    "        color='purple',\n",
    "        symbol='triangle-up'\n",
    "    ),\n",
    "    name='Fast shear waves'\n",
    "),row=1, col=4)\n",
    "\n",
    "# Añadir la cuarta subtrama (Stoneley waves)\n",
    "fig.add_trace(go.Scatter(\n",
    "    x=signal.savgol_filter(1/well_clean['DTST'].values, 150, 5),  # Ventana de tamaño 53 y polinomio de orden 3\n",
    "    y=depth,\n",
    "    marker=dict(\n",
    "        size=2,\n",
    "        color='steelblue',\n",
    "        symbol='triangle-up'\n",
    "    ),\n",
    "    name='Stoneley waves'\n",
    "),row=1, col=5)\n",
    "\n",
    "# Añadir la primera subtrama (Vs)\n",
    "fig.add_trace(go.Scatter(\n",
    "    x=signal.savgol_filter(well_clean['VPVS'].values, 300, 5),  # Ventana de tamaño 53 y polinomio de orden 3\n",
    "    y=depth,\n",
    "    marker=dict(\n",
    "        size=2,\n",
    "        color='mediumpurple',\n",
    "        symbol='triangle-up'\n",
    "    ),\n",
    "    name='Vp/Vs'\n",
    "),row=1, col=6)\n",
    "\n",
    "# Añadir la segunda subtrama (Vp)\n",
    "fig.add_trace(go.Scatter(\n",
    "    x=signal.savgol_filter(well_clean['VPVS_FAST'].values, 300, 5),  # Ventana de tamaño 53 y polinomio de orden 3\n",
    "    y=depth,\n",
    "    marker=dict(\n",
    "        size=2,\n",
    "        color='mediumaquamarine',\n",
    "        symbol='triangle-up'\n",
    "    ),\n",
    "    name='Vp'\n",
    "),row=1, col=7)\n",
    "\n",
    "# Añadir la tercera subtrama (Fast shear waves)\n",
    "\n",
    "\n",
    "\n",
    "# Invertir el eje y en todas las subtramas\n",
    "fig.update_yaxes(autorange='reversed')\n",
    "\n",
    "# Ajustar el diseño\n",
    "fig.update_layout(\n",
    "    width=1200,  # Ajusta el ancho de la figura\n",
    "    height=600,  # Ajusta la altura de la figura\n",
    "    showlegend=False,\n",
    "    title_text=\"Well Data\"\n",
    ")\n",
    "\n",
    "# Mostrar la figura\n",
    "fig.show()"
   ]
  },
  {
   "cell_type": "code",
   "execution_count": null,
   "id": "98ea3c55",
   "metadata": {},
   "outputs": [],
   "source": [
    "fig = make_subplots(rows=3, cols=1, shared_yaxes=True, subplot_titles=(\"Density\", \"Vs\", \"Vp\"))\n",
    "\n",
    "fig.add_trace(go.Scatter(\n",
    "    x=depth,  # Ventana de tamaño 53 y polinomio de orden 3\n",
    "    y=well_clean['RHOZ'].values,\n",
    "    marker=dict(\n",
    "        size=2,\n",
    "        color='purple',\n",
    "        symbol='triangle-up'\n",
    "    ),\n",
    "    name='Density'\n",
    "),row=1, col=1)\n",
    "\n",
    "fig.add_trace(go.Scatter(\n",
    "    x=depth,  # Ventana de tamaño 53 y polinomio de orden 3\n",
    "    y=well_clean['Vp'].values,\n",
    "    marker=dict(\n",
    "        size=2,\n",
    "        color='hotpink',\n",
    "        symbol='triangle-up'\n",
    "    ),\n",
    "    name='Vp'\n",
    "),row=2, col=1)\n",
    "\n",
    "fig.add_trace(go.Scatter(\n",
    "    x=depth,  # Ventana de tamaño 53 y polinomio de orden 3\n",
    "    y=well_clean['Vs'].values,\n",
    "    marker=dict(\n",
    "        size=2,\n",
    "        color='orange',\n",
    "        symbol='triangle-up'\n",
    "    ),\n",
    "    name='Vs'\n",
    "),row=3, col=1)\n",
    "fig.update_xaxes(title_text=\"Depth\", row=3, col=1)"
   ]
  },
  {
   "cell_type": "markdown",
   "id": "99af78ed",
   "metadata": {},
   "source": [
    "##### Datos sin outliers"
   ]
  },
  {
   "cell_type": "code",
   "execution_count": null,
   "id": "f2f37c71",
   "metadata": {},
   "outputs": [],
   "source": [
    "sns.boxplot(well_clean['Vp'].values)"
   ]
  },
  {
   "cell_type": "code",
   "execution_count": null,
   "id": "350ae6d1",
   "metadata": {},
   "outputs": [],
   "source": [
    "sns.boxplot(well_clean['Vs'].values)"
   ]
  },
  {
   "cell_type": "code",
   "execution_count": null,
   "id": "9ede2f3d",
   "metadata": {},
   "outputs": [],
   "source": [
    "def removal_box_plot(df, column, threshold,threshold2):\n",
    "    sns.boxplot(df[column].values)\n",
    "    plt.title(f'Original Box Plot of {column}')\n",
    "    plt.show()\n",
    " \n",
    "    removed_outliers1 = df[df[column].values <= threshold]\n",
    "    removed_outliers = removed_outliers1[removed_outliers1[column].values >= threshold2]\n",
    " \n",
    "    sns.boxplot(removed_outliers[column].values)\n",
    "    plt.title(f'Box Plot without Outliers of {column}')\n",
    "    plt.show()\n",
    "    return removed_outliers"
   ]
  },
  {
   "cell_type": "code",
   "execution_count": null,
   "id": "3ade8643",
   "metadata": {},
   "outputs": [],
   "source": [
    "threshold_value = 2.95\n",
    "threshold_value2 =2.3\n",
    " \n",
    "no_outliers = removal_box_plot(well_clean, 'RHOZ', threshold_value,threshold_value2)"
   ]
  },
  {
   "cell_type": "code",
   "execution_count": null,
   "id": "77f2eecf",
   "metadata": {},
   "outputs": [],
   "source": [
    "fig = make_subplots(rows=3, cols=1, shared_yaxes=True, subplot_titles=(\"Density\", \"Vs\", \"Vp\"))\n",
    "\n",
    "fig.add_trace(go.Scatter(\n",
    "    x=depth,  # Ventana de tamaño 53 y polinomio de orden 3\n",
    "    y=no_outliers['RHOZ'].values,\n",
    "    marker=dict(\n",
    "        size=2,\n",
    "        color='purple',\n",
    "        symbol='triangle-up'\n",
    "    ),\n",
    "    name='Density'\n",
    "),row=1, col=1)\n",
    "\n",
    "fig.add_trace(go.Scatter(\n",
    "    x=depth,  # Ventana de tamaño 53 y polinomio de orden 3\n",
    "    y=well_clean['Vp'].values,\n",
    "    marker=dict(\n",
    "        size=2,\n",
    "        color='hotpink',\n",
    "        symbol='triangle-up'\n",
    "    ),\n",
    "    name='Vp'\n",
    "),row=2, col=1)\n",
    "\n",
    "fig.add_trace(go.Scatter(\n",
    "    x=depth,  # Ventana de tamaño 53 y polinomio de orden 3\n",
    "    y=well_clean['Vs'].values,\n",
    "    marker=dict(\n",
    "        size=2,\n",
    "        color='orange',\n",
    "        symbol='triangle-up'\n",
    "    ),\n",
    "    name='Vs'\n",
    "),row=3, col=1)\n",
    "fig.update_xaxes(title_text=\"Depth\", row=3, col=1)"
   ]
  },
  {
   "cell_type": "markdown",
   "id": "3ecf8ef4",
   "metadata": {},
   "source": [
    "Hay que suavizar los datos y ponerlos hasta 2000 ft por lo que es para la subsurface level"
   ]
  },
  {
   "cell_type": "code",
   "execution_count": null,
   "id": "36970445",
   "metadata": {},
   "outputs": [],
   "source": [
    "fig = make_subplots(rows=3, cols=1, shared_yaxes=True, subplot_titles=(\"Density\", \"Vs\", \"Vp\"))\n",
    "\n",
    "fig.add_trace(go.Scatter(\n",
    "    x=depth,  # Ventana de tamaño 53 y polinomio de orden 3\n",
    "    y=no_outliers['RHOZ'].values,\n",
    "    marker=dict(\n",
    "        size=2,\n",
    "        color='purple',\n",
    "        symbol='triangle-up'\n",
    "    ),\n",
    "    name='Density'\n",
    "),row=1, col=1)\n",
    "\n",
    "fig.add_trace(go.Scatter(\n",
    "    x=depth,  # Ventana de tamaño 53 y polinomio de orden 3\n",
    "    y=well_clean['Vp'].values,\n",
    "    marker=dict(\n",
    "        size=2,\n",
    "        color='hotpink',\n",
    "        symbol='triangle-up'\n",
    "    ),\n",
    "    name='Vp'\n",
    "),row=2, col=1)\n",
    "\n",
    "fig.add_trace(go.Scatter(\n",
    "    x=depth,  # Ventana de tamaño 53 y polinomio de orden 3\n",
    "    y=well_clean['Vs'].values,\n",
    "    marker=dict(\n",
    "        size=2,\n",
    "        color='orange',\n",
    "        symbol='triangle-up'\n",
    "    ),\n",
    "    name='Vs'\n",
    "),row=3, col=1)\n",
    "fig.update_xaxes(title_text=\"Depth\", range=[946, 2000], row=1, col=1)\n",
    "fig.update_xaxes(title_text=\"Depth\", range=[395, 2000], row=2, col=1)\n",
    "fig.update_xaxes(title_text=\"Depth\", range=[395, 2000], row=3, col=1)"
   ]
  },
  {
   "cell_type": "code",
   "execution_count": null,
   "id": "7635398a",
   "metadata": {
    "scrolled": false
   },
   "outputs": [],
   "source": [
    "fig = make_subplots(rows=3, cols=1, shared_yaxes=True, subplot_titles=(\"Density\", \"Vs\", \"Vp\"))\n",
    "\n",
    "fig.add_trace(go.Scatter(\n",
    "    x=depth,\n",
    "    y=signal.savgol_filter(well_clean['RHOZ'].values, 56, 5),  # Ventana de tamaño 53 y polinomio de orden 3\n",
    "    marker=dict(\n",
    "        size=2,\n",
    "        color='purple',\n",
    "        symbol='triangle-up'\n",
    "    ),\n",
    "    name='Density'\n",
    "),row=1, col=1)\n",
    "\n",
    "# Añadir la primera subtrama (Vs)\n",
    "fig.add_trace(go.Scatter(\n",
    "    x=depth,\n",
    "    y=signal.savgol_filter(well_clean['Vs'].values, 50, 5),  # Ventana de tamaño 53 y polinomio de orden 3\n",
    "    marker=dict(\n",
    "        size=2,\n",
    "        color='mediumpurple',\n",
    "        symbol='triangle-up'\n",
    "    ),\n",
    "    name='Vs'\n",
    "),row=2, col=1)\n",
    "\n",
    "# Añadir la segunda subtrama (Vp)\n",
    "fig.add_trace(go.Scatter(\n",
    "    x=depth,\n",
    "    y=signal.savgol_filter(well_clean['Vp'].values, 50, 5),  # Ventana de tamaño 53 y polinomio de orden 3\n",
    "    marker=dict(\n",
    "        size=2,\n",
    "        color='hotpink',\n",
    "        symbol='triangle-up'\n",
    "    ),\n",
    "    name='Vp'\n",
    "),row=3, col=1)\n",
    "\n",
    "\n",
    "\n",
    "# Ajustar el diseño\n",
    "fig.update_xaxes(range=[395, 2400], row=1, col=1)\n",
    "fig.update_xaxes(range=[395, 2400], row=2, col=1)\n",
    "fig.update_xaxes(title_text=\"Depth\", range=[395, 2400], row=3, col=1)\n",
    "# Mostrar la figura\n",
    "fig.show()"
   ]
  },
  {
   "cell_type": "code",
   "execution_count": null,
   "id": "37086e55",
   "metadata": {},
   "outputs": [],
   "source": [
    "Density_smooth = signal.savgol_filter(well_clean['RHOZ'].values, 200, 3)\n",
    "Vp_smooth = signal.savgol_filter(well_clean['Vp'].values, 200, 3)\n",
    "Vs_smooth = signal.savgol_filter(well_clean['Vs'].values, 200, 3)"
   ]
  },
  {
   "cell_type": "code",
   "execution_count": null,
   "id": "de9dda1f",
   "metadata": {},
   "outputs": [],
   "source": [
    "fig = make_subplots(rows=3, cols=1, shared_yaxes=True, subplot_titles=(\"Density\", \"Vs\", \"Vp\"))\n",
    "\n",
    "fig.add_trace(go.Scatter(\n",
    "    x=depth,\n",
    "    y=well_clean['RHOZ'].values,  # Ventana de tamaño 53 y polinomio de orden 3\n",
    "    marker=dict(\n",
    "        size=2,\n",
    "        color='blue',\n",
    "        symbol='triangle-up'\n",
    "    ),\n",
    "    name='Before smoothening'\n",
    "),row=1, col=1)\n",
    "fig.add_trace(go.Scatter(\n",
    "    x=depth,\n",
    "    y=Density_smooth,  # Ventana de tamaño 53 y polinomio de orden 3\n",
    "    marker=dict(\n",
    "        size=2,\n",
    "        color='hotpink',\n",
    "        symbol='triangle-up'\n",
    "    ),\n",
    "    name='After smoothening'\n",
    "),row=1, col=1)\n",
    "\n",
    "# Añadir la primera subtrama (Vs)\n",
    "fig.add_trace(go.Scatter(\n",
    "    x=depth,\n",
    "    y=well_clean['Vs'].values,  # Ventana de tamaño 53 y polinomio de orden 3\n",
    "    marker=dict(\n",
    "        size=2,\n",
    "        color='blue',\n",
    "        symbol='triangle-up'\n",
    "    ),\n",
    "    name='Before smoothening',\n",
    "    showlegend=False\n",
    "),row=2, col=1)\n",
    "fig.add_trace(go.Scatter(\n",
    "    x=depth,\n",
    "    y=Vs_smooth,  # Ventana de tamaño 53 y polinomio de orden 3\n",
    "    marker=dict(\n",
    "        size=2,\n",
    "        color='hotpink',\n",
    "        symbol='triangle-up'\n",
    "    ),\n",
    "    name='After smoothening',\n",
    "    showlegend=False\n",
    "),row=2, col=1)\n",
    "\n",
    "# Añadir la segunda subtrama (Vp)\n",
    "fig.add_trace(go.Scatter(\n",
    "    x=depth,\n",
    "    y=well_clean['Vp'].values,  # Ventana de tamaño 53 y polinomio de orden 3\n",
    "    marker=dict(\n",
    "        size=2,\n",
    "        color='blue',\n",
    "        symbol='triangle-up'\n",
    "    ),\n",
    "    name='After smoothening',\n",
    "    showlegend=False\n",
    "),row=3, col=1)\n",
    "fig.add_trace(go.Scatter(\n",
    "    x=depth,\n",
    "    y=Vp_smooth,  # Ventana de tamaño 53 y polinomio de orden 3\n",
    "    marker=dict(\n",
    "        size=2,\n",
    "        color='hotpink',\n",
    "        symbol='triangle-up'\n",
    "    ),\n",
    "    name='After smoothening',\n",
    "    showlegend=False\n",
    "),row=3, col=1)\n",
    "\n",
    "\n",
    "\n",
    "# Ajustar el diseño\n",
    "fig.update_xaxes(range=[395, 5600], row=1, col=1)\n",
    "fig.update_xaxes(range=[395, 5600], row=2, col=1)\n",
    "fig.update_xaxes(title_text=\"Depth\", range=[395, 5400], row=3, col=1)\n",
    "# Mostrar la figura\n",
    "fig.show()"
   ]
  },
  {
   "cell_type": "code",
   "execution_count": null,
   "id": "975850e1",
   "metadata": {},
   "outputs": [],
   "source": [
    "Nx = 10000\n",
    "Nz = int(well_clean['RHOZ'].size)\n",
    "den2d = np.zeros([Nx,Nz])\n",
    "for i in range(0,Nx):\n",
    "    den2d[i] = Density_smooth\n",
    "    "
   ]
  },
  {
   "cell_type": "code",
   "execution_count": null,
   "id": "7319dc96",
   "metadata": {
    "scrolled": false
   },
   "outputs": [],
   "source": [
    "plt.imshow(den2d.T)"
   ]
  },
  {
   "cell_type": "code",
   "execution_count": null,
   "id": "643e382d",
   "metadata": {},
   "outputs": [],
   "source": [
    "Nx = 10000\n",
    "Nz = int(well_clean['Vs'].size)\n",
    "vs2d = np.zeros([Nx,Nz])\n",
    "for i in range(0,Nx):\n",
    "    vs2d[i] = Vs_smooth\n",
    "    "
   ]
  },
  {
   "cell_type": "code",
   "execution_count": null,
   "id": "14546494",
   "metadata": {},
   "outputs": [],
   "source": [
    "plt.imshow(vs2d.T)"
   ]
  },
  {
   "cell_type": "code",
   "execution_count": null,
   "id": "0ccbc31c",
   "metadata": {},
   "outputs": [],
   "source": [
    "Nx = 10000\n",
    "Nz = int(well_clean['Vp'].size)\n",
    "vp2d = np.zeros([Nx,Nz])\n",
    "for i in range(0,Nx):\n",
    "    vp2d[i] = Vp_smooth\n",
    "    "
   ]
  },
  {
   "cell_type": "code",
   "execution_count": null,
   "id": "6f3a8261",
   "metadata": {},
   "outputs": [],
   "source": [
    "plt.imshow(vp2d.T)"
   ]
  },
  {
   "cell_type": "markdown",
   "id": "bb3ad987",
   "metadata": {},
   "source": [
    "## Conv de unidades"
   ]
  },
  {
   "cell_type": "code",
   "execution_count": null,
   "id": "e3b957d7",
   "metadata": {},
   "outputs": [],
   "source": [
    "#unidades ft/us a m/s\n",
    "vp_ms=Vp_smooth*0.3048*(10**6)\n",
    "vs_ms=Vs_smooth*0.3048*(10**6)\n",
    "\n",
    "vp_org_ms= well_clean['Vp']*0.3048*(10**6)\n",
    "vs_org_ms= well_clean['Vs']*0.3048*(10**6)\n",
    "\n",
    "depth_m=depth*0.3048"
   ]
  },
  {
   "cell_type": "code",
   "execution_count": null,
   "id": "d7b4e1e6",
   "metadata": {
    "scrolled": false
   },
   "outputs": [],
   "source": [
    "fig = make_subplots(rows=3, cols=1, shared_yaxes=True, subplot_titles=(\"Vp\", \"Vs\", \"density\"))\n",
    "\n",
    "# Añadir la primera subtrama (Vs)\n",
    "fig.add_trace(go.Scatter(\n",
    "    x=depth_m,\n",
    "    y=vs_org_ms,  # Ventana de tamaño 53 y polinomio de orden 3\n",
    "    marker=dict(\n",
    "        size=2,\n",
    "        color='blue',\n",
    "        symbol='triangle-up'\n",
    "    ),\n",
    "    name='Before smoothening',\n",
    "    showlegend=True\n",
    "),row=1, col=1)\n",
    "fig.add_trace(go.Scatter(\n",
    "    x=depth_m,\n",
    "    y=vs_ms,  # Ventana de tamaño 53 y polinomio de orden 3\n",
    "    marker=dict(\n",
    "        size=2,\n",
    "        color='hotpink',\n",
    "        symbol='triangle-up'\n",
    "    ),\n",
    "    name='After smoothening',\n",
    "    showlegend=True\n",
    "),row=1, col=1)\n",
    "\n",
    "# Añadir la segunda subtrama (Vp)\n",
    "fig.add_trace(go.Scatter(\n",
    "    x=depth_m,\n",
    "    y=vp_org_ms,  # Ventana de tamaño 53 y polinomio de orden 3\n",
    "    marker=dict(\n",
    "        size=2,\n",
    "        color='blue',\n",
    "        symbol='triangle-up'\n",
    "    ),\n",
    "    name='After smoothening',\n",
    "    showlegend=False\n",
    "),row=2, col=1)\n",
    "fig.add_trace(go.Scatter(\n",
    "    x=depth_m,\n",
    "    y=vp_ms,  # Ventana de tamaño 53 y polinomio de orden 3\n",
    "    marker=dict(\n",
    "        size=2,\n",
    "        color='hotpink',\n",
    "        symbol='triangle-up'\n",
    "    ),\n",
    "    name='After smoothening',\n",
    "    showlegend=False\n",
    "),row=2, col=1)\n",
    "\n",
    "\n",
    "fig.add_trace(go.Scatter(\n",
    "    x=depth_m,\n",
    "    y=well_clean['RHOZ'].values,  # Ventana de tamaño 53 y polinomio de orden 3\n",
    "    marker=dict(\n",
    "        size=2,\n",
    "        color='blue',\n",
    "        symbol='triangle-up'\n",
    "    ),\n",
    "    name='Before smoothening',\n",
    "    showlegend=False\n",
    "),row=3, col=1)\n",
    "\n",
    "fig.add_trace(go.Scatter(\n",
    "    x=depth_m,\n",
    "    y=Density_smooth,  # Ventana de tamaño 53 y polinomio de orden 3\n",
    "    marker=dict(\n",
    "        size=2,\n",
    "        color='hotpink',\n",
    "        symbol='triangle-up'\n",
    "    ),\n",
    "    name='After smoothening',\n",
    "    showlegend=False\n",
    "),row=3, col=1)\n",
    "\n",
    "\n",
    "# Ajustar el diseño\n",
    "#fig.update_xaxes(range=[395, 5600], row=1, col=1)\n",
    "#fig.update_xaxes(range=[395, 5600], row=2, col=1)\n",
    "fig.update_xaxes(title_text=\"Depth (m)\", row=3, col=1)\n",
    "fig.update_yaxes(title_text=\"Vp (m/s)\", row=1, col=1)\n",
    "fig.update_yaxes(title_text=\"Vs (m/s)\", row=2, col=1)\n",
    "fig.update_yaxes(title_text=\"$Density (g/cm^{3})$\", row=3, col=1)\n",
    "# Mostrar la figura\n",
    "fig.show()"
   ]
  },
  {
   "cell_type": "code",
   "execution_count": null,
   "id": "537ba150",
   "metadata": {},
   "outputs": [],
   "source": [
    "Nx = 10000\n",
    "Nz = int(vp_ms.size)\n",
    "vp2d = np.zeros([Nx,Nz])\n",
    "for i in range(0,Nx):\n",
    "    vp2d[i] = vp_ms"
   ]
  },
  {
   "cell_type": "code",
   "execution_count": null,
   "id": "b269438a",
   "metadata": {},
   "outputs": [],
   "source": [
    "im = plt.imshow(vp2d.T, cmap=\"copper\")\n",
    "cbar = plt.colorbar(im)\n",
    "cbar.set_label(\"Colorbar\")\n",
    "plt.show()"
   ]
  },
  {
   "cell_type": "code",
   "execution_count": null,
   "id": "e9e357b9",
   "metadata": {},
   "outputs": [],
   "source": [
    "Nx = 10000\n",
    "Nz = int(vs_ms.size)\n",
    "vs2d = np.zeros([Nx,Nz])\n",
    "for i in range(0,Nx):\n",
    "    vs2d[i] = vs_ms"
   ]
  },
  {
   "cell_type": "code",
   "execution_count": null,
   "id": "07cce995",
   "metadata": {},
   "outputs": [],
   "source": [
    "im2 = plt.imshow(vs2d.T, cmap=\"copper\")\n",
    "cbar = plt.colorbar(im2)\n",
    "cbar.set_label(\"velocity values (m/s)\")\n",
    "plt.show()"
   ]
  },
  {
   "cell_type": "code",
   "execution_count": null,
   "id": "85f4e4f5",
   "metadata": {},
   "outputs": [],
   "source": [
    "VS_250=signal.savgol_filter(well_clean['Vs'].values, 200, 5)*0.3048*(10**6)\n",
    "Nx = 10000\n",
    "Nz = int(VS_250.size)\n",
    "vs2d250 = np.zeros([Nx,Nz])\n",
    "for i in range(0,Nx):\n",
    "    vs2d250[i] = VS_250"
   ]
  },
  {
   "cell_type": "code",
   "execution_count": null,
   "id": "2076f523",
   "metadata": {
    "scrolled": false
   },
   "outputs": [],
   "source": [
    "im3 = plt.imshow(vs2d250.T, cmap=\"copper\")\n",
    "cbar = plt.colorbar(im3)\n",
    "cbar.set_label(\"velocity values (m/s)\")\n",
    "plt.show()"
   ]
  },
  {
   "cell_type": "code",
   "execution_count": null,
   "id": "c2d1f884",
   "metadata": {},
   "outputs": [],
   "source": [
    "fig, axs = plt.subplots(1, 2, figsize=(10, 5))  \n",
    "\n",
    "# Primer gráfico 250,5\n",
    "im3 = axs[0].imshow(vs2d250.T, cmap=\"copper\")\n",
    "cbar = fig.colorbar(im3, ax=axs[0])  \n",
    "cbar.set_label(\"velocity values (m/s)\")\n",
    "\n",
    "# Segundo gráfico 250,3\n",
    "im2 = axs[1].imshow(vs2d.T, cmap=\"copper\")\n",
    "cbar = fig.colorbar(im2, ax=axs[1])\n",
    "cbar.set_label(\"velocity values (m/s)\")\n",
    "\n",
    "plt.show()\n"
   ]
  },
  {
   "cell_type": "markdown",
   "id": "5f75712e",
   "metadata": {},
   "source": [
    "### intervalos"
   ]
  },
  {
   "cell_type": "code",
   "execution_count": null,
   "id": "2f62add9",
   "metadata": {},
   "outputs": [],
   "source": [
    "# Definir los intervalos de velocidad\n",
    "vp_intervals = [1000, 1500, 2000, 2500, 3000, 3500, 4000]\n",
    "vs_intervals = [2000, 3000, 4000, 5000, 6000]\n",
    "density_intervals = [1.5, 2.0, 2.5, 3.0]\n",
    "\n",
    "# Crear una función para asignar cada valor al intervalo correspondiente\n",
    "def categorize_intervals(data, intervals):\n",
    "    categorized = np.digitize(data, intervals, right=True)\n",
    "    return categorized\n",
    "\n",
    "# Categorizar los datos suavizados\n",
    "vp_categorized = categorize_intervals(vp_ms, vp_intervals)\n",
    "vs_categorized = categorize_intervals(vs_ms, vs_intervals)\n",
    "density_categorized = categorize_intervals(Density_smooth, density_intervals)"
   ]
  },
  {
   "cell_type": "code",
   "execution_count": null,
   "id": "ac1f40c1",
   "metadata": {},
   "outputs": [],
   "source": [
    "# Definir dimensiones\n",
    "Nx = 10000\n",
    "Nz_vp = vp_categorized.size\n",
    "Nz_vs = vs_categorized.size\n",
    "Nz_density = density_categorized.size\n",
    "\n",
    "# Crear matrices 2D con los datos categorizados\n",
    "vp_2d_cat = np.zeros([Nx, Nz_vp])\n",
    "vs_2d_cat = np.zeros([Nx, Nz_vs])\n",
    "density_2d_cat = np.zeros([Nx, Nz_density])\n",
    "\n",
    "for i in range(Nx):\n",
    "    vp_2d_cat[i] = vp_categorized\n",
    "    vs_2d_cat[i] = vs_categorized\n",
    "    density_2d_cat[i] = density_categorized\n"
   ]
  },
  {
   "cell_type": "code",
   "execution_count": null,
   "id": "12d9dbfa",
   "metadata": {},
   "outputs": [],
   "source": [
    "def create_interval_labels(intervals):\n",
    "    return [f\"<{intervals[0]}\"] + [f\"{intervals[i]}-{intervals[i+1]}\" for i in range(len(intervals)-1)] + [f\">{intervals[-1]}\"]\n",
    "\n",
    "# Graficar los intervalos de Velocidad de Ondas P\n",
    "plt.figure(figsize=(10, 6))\n",
    "im_vp = plt.imshow(vp_2d_cat.T, cmap=\"copper\", aspect='auto')\n",
    "cbar = plt.colorbar(im_vp)\n",
    "cbar.set_ticks(np.arange(len(vp_intervals) + 1))\n",
    "cbar.set_ticklabels(create_interval_labels(vp_intervals))\n",
    "cbar.set_label(\"Vp Intervals (m/s)\")\n",
    "plt.title(\"Mapa de Intervalos de Velocidad de Ondas P\")\n",
    "plt.xlabel(\"Indice de Muestra\")\n",
    "plt.ylabel(\"Profundidad\")\n",
    "plt.show()\n",
    "\n",
    "# Graficar los intervalos de Velocidad de Ondas S\n",
    "plt.figure(figsize=(10, 6))\n",
    "im_vs = plt.imshow(vs_2d_cat.T, cmap=\"copper\", aspect='auto')\n",
    "cbar = plt.colorbar(im_vs)\n",
    "cbar.set_ticks(np.arange(len(vs_intervals) + 1))\n",
    "cbar.set_ticklabels(create_interval_labels(vs_intervals))\n",
    "cbar.set_label(\"Vs Intervals (m/s)\")\n",
    "plt.title(\"Mapa de Intervalos de Velocidad de Ondas S\")\n",
    "plt.xlabel(\"Indice de Muestra\")\n",
    "plt.ylabel(\"Profundidad\")\n",
    "plt.show()\n",
    "\n",
    "# Graficar los intervalos de Densidad\n",
    "plt.figure(figsize=(10, 6))\n",
    "im_density = plt.imshow(density_2d_cat.T, cmap=\"copper\", aspect='auto')\n",
    "cbar = plt.colorbar(im_density)\n",
    "cbar.set_ticks(np.arange(len(density_intervals) + 1))\n",
    "cbar.set_ticklabels(create_interval_labels(density_intervals))\n",
    "cbar.set_label(\"Density Intervals (g/cm³)\")\n",
    "plt.title(\"Mapa de Intervalos de Densidad\")\n",
    "plt.xlabel(\"Indice de Muestra\")\n",
    "plt.ylabel(\"Profundidad\")\n",
    "plt.show()\n"
   ]
  },
  {
   "cell_type": "markdown",
   "id": "e86ebc4a",
   "metadata": {},
   "source": [
    "### función de smoothening manual"
   ]
  },
  {
   "cell_type": "code",
   "execution_count": null,
   "id": "850e5d18",
   "metadata": {},
   "outputs": [],
   "source": [
    "velp_prom_ms=moving_average(vp_org_ms.values,filt_l)\n",
    "vels_prom_ms=moving_average(vs_org_ms.values,filt_l)"
   ]
  },
  {
   "cell_type": "code",
   "execution_count": null,
   "id": "091df7f0",
   "metadata": {},
   "outputs": [],
   "source": [
    "Nx = 10000\n",
    "Nz = int(velp_prom_ms.size)\n",
    "vp_pr = np.zeros([Nx,Nz])\n",
    "for i in range(0,Nx):\n",
    "    vp_pr[i] = velp_prom_ms"
   ]
  },
  {
   "cell_type": "code",
   "execution_count": null,
   "id": "42764b51",
   "metadata": {},
   "outputs": [],
   "source": [
    "im3n = plt.imshow(vp_pr.T, cmap=\"copper\")\n",
    "cbar = plt.colorbar(im3n)\n",
    "cbar.set_label(\"velocity values (m/s)\")\n",
    "plt.show()"
   ]
  },
  {
   "cell_type": "code",
   "execution_count": null,
   "id": "d8b70729",
   "metadata": {},
   "outputs": [],
   "source": [
    "Nx = 10000\n",
    "Nz = int(vels_prom_ms.size)\n",
    "vs_pr = np.zeros([Nx,Nz])\n",
    "for i in range(0,Nx):\n",
    "    vs_pr[i] = vels_prom_ms"
   ]
  },
  {
   "cell_type": "code",
   "execution_count": null,
   "id": "d2024a73",
   "metadata": {},
   "outputs": [],
   "source": [
    "im2n = plt.imshow(vs_pr.T, cmap=\"copper\")\n",
    "cbar = plt.colorbar(im2n)\n",
    "cbar.set_label(\"velocity values (m/s)\")\n",
    "plt.show()"
   ]
  },
  {
   "cell_type": "code",
   "execution_count": null,
   "id": "adff434b",
   "metadata": {},
   "outputs": [],
   "source": []
  }
 ],
 "metadata": {
  "kernelspec": {
   "display_name": "Python 3 (ipykernel)",
   "language": "python",
   "name": "python3"
  },
  "language_info": {
   "codemirror_mode": {
    "name": "ipython",
    "version": 3
   },
   "file_extension": ".py",
   "mimetype": "text/x-python",
   "name": "python",
   "nbconvert_exporter": "python",
   "pygments_lexer": "ipython3",
   "version": "3.8.0"
  }
 },
 "nbformat": 4,
 "nbformat_minor": 5
}
